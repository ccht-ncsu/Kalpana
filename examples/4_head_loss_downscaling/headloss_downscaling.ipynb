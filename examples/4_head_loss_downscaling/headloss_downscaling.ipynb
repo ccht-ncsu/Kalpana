{
 "cells": [
  {
   "cell_type": "code",
   "execution_count": 4,
   "metadata": {},
   "outputs": [],
   "source": [
    "# %%\n",
    "import os\n",
    "import shutil\n",
    "from pathlib import Path\n",
    "from kalpana.downscalingHeadLoss import preCompCostSurface, runHeadLoss"
   ]
  },
  {
   "cell_type": "markdown",
   "metadata": {},
   "source": [
    "#### Preprocess"
   ]
  },
  {
   "cell_type": "markdown",
   "metadata": {},
   "source": [
    "These two lines are exactly the same as the ```compute_cost_surface.ipybn```"
   ]
  },
  {
   "cell_type": "code",
   "execution_count": 2,
   "metadata": {},
   "outputs": [],
   "source": [
    "## grass version\n",
    "grassVer = 8.2\n",
    "\n",
    "## boolean flag for creating a GRASS GIS location\n",
    "createGrassLocation = True\n",
    "\n",
    "## path to the grass location\n",
    "pathGrassLocation = os.getcwd()\n",
    "\n",
    "## path of the downscaling raster\n",
    "pathRasFiles  = str(Path(os.getcwd()).parent.parent/'adds/inputs_examples')\n",
    "\n",
    "## downscaling raster file name\n",
    "rasterFiles = 'NC_CoNED_subset_100m.tif'\n",
    "\n",
    "path_manning = str(Path(os.getcwd()).parent.parent/'adds/manning')\n",
    "\n",
    "## full path of the land cover DEM\n",
    "manningRasPath = os.path.join(path_manning, \"NLCD_2016_Land_Cover_L48_20190424_subset_50m_NC_epsg6346.tif\")\n",
    "\n",
    "## rules list to convert from land cover to manning\n",
    "manningLandCover = os.path.join(path_manning, \"landCover_manning.txt\")\n",
    "\n",
    "## coordinate reference system \n",
    "epsg = 6346\n",
    "\n",
    "## full path of the output dem with the raw cost\n",
    "pathOutRawCostRas = os.path.join(pathGrassLocation, 'rawCostRaster_NCconed100m.tif')\n",
    "\n",
    "## full path of the output dem with the total cost\n",
    "pathOutTotalCostRas = os.path.join(pathGrassLocation, 'totalCostRaster_NCconed100m.tif')\n",
    "\n",
    "## full path of the output downscaling DEM. In case the downscaling DEM does not have bathy,\n",
    "## cells with water land cover class are set to bathymetry 0 so water cells are included in the calculations.\n",
    "pathOutDownDemCorr = os.path.join(pathGrassLocation, 'downDemCorr_NCconed100m.tif')"
   ]
  },
  {
   "cell_type": "code",
   "execution_count": 3,
   "metadata": {},
   "outputs": [
    {
     "name": "stderr",
     "output_type": "stream",
     "text": [
      "\u001b[32m2024-06-30 16:31:18.232\u001b[0m | \u001b[1mINFO    \u001b[0m | \u001b[36mkalpana.downscalingHeadLoss\u001b[0m:\u001b[36mpreCompCostSurface\u001b[0m:\u001b[36m245\u001b[0m - \u001b[1mStatic downscaling started\u001b[0m\n",
      "\u001b[32m2024-06-30 16:31:18.280\u001b[0m | \u001b[1mINFO    \u001b[0m | \u001b[36mkalpana.downscalingHeadLoss\u001b[0m:\u001b[36mpreCompCostSurface\u001b[0m:\u001b[36m261\u001b[0m - \u001b[1m    Start Setup grass environment\u001b[0m\n",
      "\u001b[32m2024-06-30 16:31:18.281\u001b[0m | \u001b[1mINFO    \u001b[0m | \u001b[36mkalpana.downscaling\u001b[0m:\u001b[36msetGrassEnv\u001b[0m:\u001b[36m337\u001b[0m - \u001b[1m        rasters to list:  0.000 min\u001b[0m\n",
      "\u001b[32m2024-06-30 16:31:18.534\u001b[0m | \u001b[1mINFO    \u001b[0m | \u001b[36mkalpana.downscaling\u001b[0m:\u001b[36msetGrassEnv\u001b[0m:\u001b[36m341\u001b[0m - \u001b[1m        create location:  0.004 min\u001b[0m\n",
      "\u001b[32m2024-06-30 16:31:18.536\u001b[0m | \u001b[1mINFO    \u001b[0m | \u001b[36mkalpana.downscaling\u001b[0m:\u001b[36msetGrassEnv\u001b[0m:\u001b[36m347\u001b[0m - \u001b[1m        init grass:  0.000 min\u001b[0m\n",
      "\u001b[32m2024-06-30 16:31:18.865\u001b[0m | \u001b[1mINFO    \u001b[0m | \u001b[36mkalpana.downscaling\u001b[0m:\u001b[36msetGrassEnv\u001b[0m:\u001b[36m352\u001b[0m - \u001b[1m        import raster:  0.005 min\u001b[0m\n",
      "\u001b[32m2024-06-30 16:31:18.930\u001b[0m | \u001b[1mINFO    \u001b[0m | \u001b[36mkalpana.downscaling\u001b[0m:\u001b[36msetGrassEnv\u001b[0m:\u001b[36m356\u001b[0m - \u001b[1m        set downscaling dem:  0.001 min\u001b[0m\n",
      "\u001b[32m2024-06-30 16:31:18.931\u001b[0m | \u001b[1mINFO    \u001b[0m | \u001b[36mkalpana.downscalingHeadLoss\u001b[0m:\u001b[36mpreCompCostSurface\u001b[0m:\u001b[36m270\u001b[0m - \u001b[1m    Setup grass environment: 0.01 min\u001b[0m\n",
      "\u001b[32m2024-06-30 16:31:20.256\u001b[0m | \u001b[1mINFO    \u001b[0m | \u001b[36mkalpana.downscalingHeadLoss\u001b[0m:\u001b[36mpreCompCostSurface\u001b[0m:\u001b[36m282\u001b[0m - \u001b[1m    Set Manning's raster 0.02 min\u001b[0m\n",
      "\u001b[32m2024-06-30 16:31:21.648\u001b[0m | \u001b[1mINFO    \u001b[0m | \u001b[36mkalpana.downscalingHeadLoss\u001b[0m:\u001b[36mpreCompCostSurface\u001b[0m:\u001b[36m287\u001b[0m - \u001b[1m    Set MSL raster 0.02 min\u001b[0m\n",
      "\u001b[32m2024-06-30 16:31:21.648\u001b[0m | \u001b[1mINFO    \u001b[0m | \u001b[36mkalpana.downscalingHeadLoss\u001b[0m:\u001b[36mpreCompCostSurface\u001b[0m:\u001b[36m289\u001b[0m - \u001b[1m    Started the cost surface computation, may take some hours\u001b[0m\n",
      "\u001b[32m2024-06-30 16:31:21.781\u001b[0m | \u001b[1mINFO    \u001b[0m | \u001b[36mkalpana.downscalingHeadLoss\u001b[0m:\u001b[36mcostSurface\u001b[0m:\u001b[36m165\u001b[0m - \u001b[1m        Starting r.wak iterations\u001b[0m\n",
      "\u001b[32m2024-06-30 16:31:23.281\u001b[0m | \u001b[1mINFO    \u001b[0m | \u001b[36mkalpana.downscalingHeadLoss\u001b[0m:\u001b[36mcostSurface\u001b[0m:\u001b[36m186\u001b[0m - \u001b[1m        Done with iteration 1/25 after 0.02 min\u001b[0m\n",
      "\u001b[32m2024-06-30 16:31:24.858\u001b[0m | \u001b[1mINFO    \u001b[0m | \u001b[36mkalpana.downscalingHeadLoss\u001b[0m:\u001b[36mcostSurface\u001b[0m:\u001b[36m186\u001b[0m - \u001b[1m        Done with iteration 2/25 after 0.03 min\u001b[0m\n",
      "\u001b[32m2024-06-30 16:31:26.457\u001b[0m | \u001b[1mINFO    \u001b[0m | \u001b[36mkalpana.downscalingHeadLoss\u001b[0m:\u001b[36mcostSurface\u001b[0m:\u001b[36m186\u001b[0m - \u001b[1m        Done with iteration 3/25 after 0.03 min\u001b[0m\n",
      "\u001b[32m2024-06-30 16:31:28.026\u001b[0m | \u001b[1mINFO    \u001b[0m | \u001b[36mkalpana.downscalingHeadLoss\u001b[0m:\u001b[36mcostSurface\u001b[0m:\u001b[36m186\u001b[0m - \u001b[1m        Done with iteration 4/25 after 0.03 min\u001b[0m\n",
      "\u001b[32m2024-06-30 16:31:29.528\u001b[0m | \u001b[1mINFO    \u001b[0m | \u001b[36mkalpana.downscalingHeadLoss\u001b[0m:\u001b[36mcostSurface\u001b[0m:\u001b[36m186\u001b[0m - \u001b[1m        Done with iteration 5/25 after 0.03 min\u001b[0m\n",
      "\u001b[32m2024-06-30 16:31:30.915\u001b[0m | \u001b[1mINFO    \u001b[0m | \u001b[36mkalpana.downscalingHeadLoss\u001b[0m:\u001b[36mcostSurface\u001b[0m:\u001b[36m186\u001b[0m - \u001b[1m        Done with iteration 6/25 after 0.02 min\u001b[0m\n",
      "\u001b[32m2024-06-30 16:31:32.141\u001b[0m | \u001b[1mINFO    \u001b[0m | \u001b[36mkalpana.downscalingHeadLoss\u001b[0m:\u001b[36mcostSurface\u001b[0m:\u001b[36m186\u001b[0m - \u001b[1m        Done with iteration 7/25 after 0.02 min\u001b[0m\n",
      "\u001b[32m2024-06-30 16:31:33.655\u001b[0m | \u001b[1mINFO    \u001b[0m | \u001b[36mkalpana.downscalingHeadLoss\u001b[0m:\u001b[36mcostSurface\u001b[0m:\u001b[36m186\u001b[0m - \u001b[1m        Done with iteration 8/25 after 0.03 min\u001b[0m\n",
      "\u001b[32m2024-06-30 16:31:35.745\u001b[0m | \u001b[1mINFO    \u001b[0m | \u001b[36mkalpana.downscalingHeadLoss\u001b[0m:\u001b[36mcostSurface\u001b[0m:\u001b[36m186\u001b[0m - \u001b[1m        Done with iteration 9/25 after 0.03 min\u001b[0m\n",
      "\u001b[32m2024-06-30 16:31:37.295\u001b[0m | \u001b[1mINFO    \u001b[0m | \u001b[36mkalpana.downscalingHeadLoss\u001b[0m:\u001b[36mcostSurface\u001b[0m:\u001b[36m186\u001b[0m - \u001b[1m        Done with iteration 10/25 after 0.03 min\u001b[0m\n",
      "\u001b[32m2024-06-30 16:31:38.854\u001b[0m | \u001b[1mINFO    \u001b[0m | \u001b[36mkalpana.downscalingHeadLoss\u001b[0m:\u001b[36mcostSurface\u001b[0m:\u001b[36m186\u001b[0m - \u001b[1m        Done with iteration 11/25 after 0.03 min\u001b[0m\n",
      "\u001b[32m2024-06-30 16:31:39.959\u001b[0m | \u001b[1mINFO    \u001b[0m | \u001b[36mkalpana.downscalingHeadLoss\u001b[0m:\u001b[36mcostSurface\u001b[0m:\u001b[36m186\u001b[0m - \u001b[1m        Done with iteration 12/25 after 0.02 min\u001b[0m\n",
      "\u001b[32m2024-06-30 16:31:41.085\u001b[0m | \u001b[1mINFO    \u001b[0m | \u001b[36mkalpana.downscalingHeadLoss\u001b[0m:\u001b[36mcostSurface\u001b[0m:\u001b[36m186\u001b[0m - \u001b[1m        Done with iteration 13/25 after 0.02 min\u001b[0m\n",
      "\u001b[32m2024-06-30 16:31:42.073\u001b[0m | \u001b[1mINFO    \u001b[0m | \u001b[36mkalpana.downscalingHeadLoss\u001b[0m:\u001b[36mcostSurface\u001b[0m:\u001b[36m186\u001b[0m - \u001b[1m        Done with iteration 14/25 after 0.02 min\u001b[0m\n",
      "\u001b[32m2024-06-30 16:31:43.627\u001b[0m | \u001b[1mINFO    \u001b[0m | \u001b[36mkalpana.downscalingHeadLoss\u001b[0m:\u001b[36mcostSurface\u001b[0m:\u001b[36m186\u001b[0m - \u001b[1m        Done with iteration 15/25 after 0.03 min\u001b[0m\n",
      "\u001b[32m2024-06-30 16:31:45.163\u001b[0m | \u001b[1mINFO    \u001b[0m | \u001b[36mkalpana.downscalingHeadLoss\u001b[0m:\u001b[36mcostSurface\u001b[0m:\u001b[36m186\u001b[0m - \u001b[1m        Done with iteration 16/25 after 0.03 min\u001b[0m\n",
      "\u001b[32m2024-06-30 16:31:46.891\u001b[0m | \u001b[1mINFO    \u001b[0m | \u001b[36mkalpana.downscalingHeadLoss\u001b[0m:\u001b[36mcostSurface\u001b[0m:\u001b[36m186\u001b[0m - \u001b[1m        Done with iteration 17/25 after 0.03 min\u001b[0m\n",
      "\u001b[32m2024-06-30 16:31:47.816\u001b[0m | \u001b[1mINFO    \u001b[0m | \u001b[36mkalpana.downscalingHeadLoss\u001b[0m:\u001b[36mcostSurface\u001b[0m:\u001b[36m186\u001b[0m - \u001b[1m        Done with iteration 18/25 after 0.02 min\u001b[0m\n",
      "\u001b[32m2024-06-30 16:31:48.566\u001b[0m | \u001b[1mINFO    \u001b[0m | \u001b[36mkalpana.downscalingHeadLoss\u001b[0m:\u001b[36mcostSurface\u001b[0m:\u001b[36m186\u001b[0m - \u001b[1m        Done with iteration 19/25 after 0.01 min\u001b[0m\n",
      "\u001b[32m2024-06-30 16:31:50.209\u001b[0m | \u001b[1mINFO    \u001b[0m | \u001b[36mkalpana.downscalingHeadLoss\u001b[0m:\u001b[36mcostSurface\u001b[0m:\u001b[36m186\u001b[0m - \u001b[1m        Done with iteration 20/25 after 0.03 min\u001b[0m\n",
      "\u001b[32m2024-06-30 16:31:51.953\u001b[0m | \u001b[1mINFO    \u001b[0m | \u001b[36mkalpana.downscalingHeadLoss\u001b[0m:\u001b[36mcostSurface\u001b[0m:\u001b[36m186\u001b[0m - \u001b[1m        Done with iteration 21/25 after 0.03 min\u001b[0m\n",
      "\u001b[32m2024-06-30 16:31:53.540\u001b[0m | \u001b[1mINFO    \u001b[0m | \u001b[36mkalpana.downscalingHeadLoss\u001b[0m:\u001b[36mcostSurface\u001b[0m:\u001b[36m186\u001b[0m - \u001b[1m        Done with iteration 22/25 after 0.03 min\u001b[0m\n",
      "\u001b[32m2024-06-30 16:31:54.565\u001b[0m | \u001b[1mINFO    \u001b[0m | \u001b[36mkalpana.downscalingHeadLoss\u001b[0m:\u001b[36mcostSurface\u001b[0m:\u001b[36m186\u001b[0m - \u001b[1m        Done with iteration 23/25 after 0.02 min\u001b[0m\n",
      "\u001b[32m2024-06-30 16:31:56.224\u001b[0m | \u001b[1mINFO    \u001b[0m | \u001b[36mkalpana.downscalingHeadLoss\u001b[0m:\u001b[36mcostSurface\u001b[0m:\u001b[36m186\u001b[0m - \u001b[1m        Done with iteration 24/25 after 0.03 min\u001b[0m\n",
      "\u001b[32m2024-06-30 16:31:57.835\u001b[0m | \u001b[1mINFO    \u001b[0m | \u001b[36mkalpana.downscalingHeadLoss\u001b[0m:\u001b[36mcostSurface\u001b[0m:\u001b[36m186\u001b[0m - \u001b[1m        Done with iteration 25/25 after 0.03 min\u001b[0m\n",
      "\u001b[32m2024-06-30 16:31:57.837\u001b[0m | \u001b[1mINFO    \u001b[0m | \u001b[36mkalpana.downscalingHeadLoss\u001b[0m:\u001b[36mcostSurface\u001b[0m:\u001b[36m189\u001b[0m - \u001b[1m    r.walk finished after 0.60 min\u001b[0m\n",
      "\u001b[32m2024-06-30 16:31:58.113\u001b[0m | \u001b[1mINFO    \u001b[0m | \u001b[36mkalpana.downscalingHeadLoss\u001b[0m:\u001b[36mcostSurface\u001b[0m:\u001b[36m193\u001b[0m - \u001b[1m    Assigning elevation 0 to null cells clasified as water 0.03 min\u001b[0m\n",
      "\u001b[32m2024-06-30 16:31:58.396\u001b[0m | \u001b[1mINFO    \u001b[0m | \u001b[36mkalpana.downscalingHeadLoss\u001b[0m:\u001b[36mcostSurface\u001b[0m:\u001b[36m199\u001b[0m - \u001b[1m    Raw cost calculation 0.00 min\u001b[0m\n",
      "\u001b[32m2024-06-30 16:31:58.935\u001b[0m | \u001b[1mINFO    \u001b[0m | \u001b[36mkalpana.downscalingHeadLoss\u001b[0m:\u001b[36mpreCompCostSurface\u001b[0m:\u001b[36m299\u001b[0m - \u001b[1m    Compute cost surface 0.62 min\u001b[0m\n"
     ]
    }
   ],
   "source": [
    "preCompCostSurface(grassVer, createGrassLocation, pathGrassLocation, pathRasFiles, rasterFiles, epsg, manningRasPath, manningLandCover, \n",
    "                                    pathOutRawCostRas, pathOutTotalCostRas, pathOutDownDemCorr, nameGrassLocation = None, createLocMethod = 'from_raster', URConstant=1, \n",
    "                                    k=1, waterClass=11, minArea=20000000, res=5, slopeFactor=-0.2125, walkCoeefs=[0, 1, -1, -1])"
   ]
  },
  {
   "cell_type": "markdown",
   "metadata": {},
   "source": [
    "#### Downscaling"
   ]
  },
  {
   "cell_type": "code",
   "execution_count": 9,
   "metadata": {},
   "outputs": [],
   "source": [
    "## full path of the maxele file to downscale\n",
    "ncFile = r\"../../adds/inputs_examples/maxele.63.nc\"\n",
    "\n",
    "## contour levels to use in the downscaling, from 0 to 11 (included) every 1levels = [0, 15, 1]\n",
    "levels = [0, 5, 0.5]\n",
    "\n",
    "## output CRS\n",
    "epsgOut = 6346\n",
    "vUnitOut = 'm'\n",
    "\n",
    "## same path is used for saving rasters and the grass location\n",
    "pathOut = os.path.join(os.getcwd(), r'Irene_headLoss.shp')\n",
    "\n",
    "## version of grass 8.2 and 8.3 works\n",
    "grassVer = 8.2\n",
    "\n",
    "## path of the downscaling raster\n",
    "pathRasFiles  = str(Path(os.getcwd()).parent.parent/'adds/inputs_examples')\n",
    "\n",
    "## downscaling raster file name\n",
    "rasterFiles = 'NC_CoNED_subset_100m.tif'\n",
    "\n",
    "## full path of the precomputed raw cost raster\n",
    "rawCostRas = os.path.join(os.getcwd(), 'rawCostRaster_NCconed100m.tif')\n",
    "\n",
    "## full path of the precomputed total cost raster\n",
    "totalCostRas = os.path.join(os.getcwd(), 'totalCostRaster_NCconed100m.tif')\n",
    "\n",
    "## full path of the corrected downscaling DEM\n",
    "corrDownDEM = os.path.join(os.getcwd(), 'downDemCorr_NCconed100m.tif')\n",
    "\n",
    "## full path of file (kml, kmz, shp, gpkg or tif) to crop the domain.\n",
    "## in this case we will use the same downscaling raster bounding box as the subdomain\n",
    "subDomain = os.path.join(pathRasFiles, rasterFiles)\n",
    "\n",
    "## epsg code or crs of the subDomain. In this case, as we are using the downscaling dem bounding box\n",
    "## as the subdomain, the same epsg code must be specified.\n",
    "epsgSubDom = epsgOut"
   ]
  },
  {
   "cell_type": "code",
   "execution_count": 10,
   "metadata": {},
   "outputs": [
    {
     "name": "stderr",
     "output_type": "stream",
     "text": [
      "\u001b[32m2024-06-30 16:38:06.669\u001b[0m | \u001b[1mINFO    \u001b[0m | \u001b[36mkalpana.export\u001b[0m:\u001b[36mnc2shp\u001b[0m:\u001b[36m817\u001b[0m - \u001b[1mStart exporting adcirc to shape\u001b[0m\n",
      "\u001b[32m2024-06-30 16:38:06.713\u001b[0m | \u001b[1mINFO    \u001b[0m | \u001b[36mkalpana.export\u001b[0m:\u001b[36mfilledContours2gpd\u001b[0m:\u001b[36m311\u001b[0m - \u001b[1mBegin computing contours using Dask\u001b[0m\n",
      "\u001b[32m2024-06-30 16:38:06.722\u001b[0m | \u001b[1mINFO    \u001b[0m | \u001b[36mkalpana.export\u001b[0m:\u001b[36mfilledContours2gpd\u001b[0m:\u001b[36m313\u001b[0m - \u001b[1mFinnished computing contours using Dask\u001b[0m\n",
      "\u001b[32m2024-06-30 16:38:06.729\u001b[0m | \u001b[1mINFO    \u001b[0m | \u001b[36mkalpana.export\u001b[0m:\u001b[36mnc2shp\u001b[0m:\u001b[36m847\u001b[0m - \u001b[1m    Ready with the contours extraction: 0.001 min\u001b[0m\n",
      "\u001b[32m2024-06-30 16:38:06.760\u001b[0m | \u001b[1mINFO    \u001b[0m | \u001b[36mkalpana.export\u001b[0m:\u001b[36mnc2shp\u001b[0m:\u001b[36m855\u001b[0m - \u001b[1m    Cliping contours based on mask: 0.001 min\u001b[0m\n",
      "\u001b[32m2024-06-30 16:38:06.768\u001b[0m | \u001b[1mINFO    \u001b[0m | \u001b[36mkalpana.export\u001b[0m:\u001b[36mnc2shp\u001b[0m:\u001b[36m873\u001b[0m - \u001b[1m    Changing CRS: 0.000 min\u001b[0m\n",
      "\u001b[32m2024-06-30 16:38:06.814\u001b[0m | \u001b[1mINFO    \u001b[0m | \u001b[36mkalpana.export\u001b[0m:\u001b[36mnc2shp\u001b[0m:\u001b[36m884\u001b[0m - \u001b[1m    Saving file: 0.001 min\u001b[0m\n",
      "\u001b[32m2024-06-30 16:38:06.814\u001b[0m | \u001b[1mINFO    \u001b[0m | \u001b[36mkalpana.export\u001b[0m:\u001b[36mnc2shp\u001b[0m:\u001b[36m901\u001b[0m - \u001b[1mReady with exporting code after: 0.002 min\u001b[0m\n",
      "\u001b[32m2024-06-30 16:38:06.815\u001b[0m | \u001b[1mINFO    \u001b[0m | \u001b[36mkalpana.downscalingHeadLoss\u001b[0m:\u001b[36mrunHeadLoss\u001b[0m:\u001b[36m580\u001b[0m - \u001b[1mHead loss downscaling started\u001b[0m\n",
      "\u001b[32m2024-06-30 16:38:06.852\u001b[0m | \u001b[1mINFO    \u001b[0m | \u001b[36mkalpana.downscaling\u001b[0m:\u001b[36msetGrassEnv\u001b[0m:\u001b[36m337\u001b[0m - \u001b[1m        rasters to list:  0.000 min\u001b[0m\n",
      "\u001b[32m2024-06-30 16:38:06.971\u001b[0m | \u001b[1mINFO    \u001b[0m | \u001b[36mkalpana.downscaling\u001b[0m:\u001b[36msetGrassEnv\u001b[0m:\u001b[36m341\u001b[0m - \u001b[1m        create location:  0.002 min\u001b[0m\n",
      "\u001b[32m2024-06-30 16:38:06.972\u001b[0m | \u001b[1mINFO    \u001b[0m | \u001b[36mkalpana.downscaling\u001b[0m:\u001b[36msetGrassEnv\u001b[0m:\u001b[36m347\u001b[0m - \u001b[1m        init grass:  0.000 min\u001b[0m\n",
      "\u001b[32m2024-06-30 16:38:07.232\u001b[0m | \u001b[1mINFO    \u001b[0m | \u001b[36mkalpana.downscaling\u001b[0m:\u001b[36msetGrassEnv\u001b[0m:\u001b[36m352\u001b[0m - \u001b[1m        import raster:  0.004 min\u001b[0m\n",
      "\u001b[32m2024-06-30 16:38:07.298\u001b[0m | \u001b[1mINFO    \u001b[0m | \u001b[36mkalpana.downscaling\u001b[0m:\u001b[36msetGrassEnv\u001b[0m:\u001b[36m356\u001b[0m - \u001b[1m        set downscaling dem:  0.001 min\u001b[0m\n",
      "\u001b[32m2024-06-30 16:38:07.299\u001b[0m | \u001b[1mINFO    \u001b[0m | \u001b[36mkalpana.downscalingHeadLoss\u001b[0m:\u001b[36mrunHeadLoss\u001b[0m:\u001b[36m602\u001b[0m - \u001b[1m   Setup grass environment: 0.007 min\u001b[0m\n",
      "\u001b[32m2024-06-30 16:38:07.401\u001b[0m | \u001b[1mINFO    \u001b[0m | \u001b[36mkalpana.downscalingHeadLoss\u001b[0m:\u001b[36msetupHeadLoss\u001b[0m:\u001b[36m333\u001b[0m - \u001b[1m        Import kalpana shapefile: 0.00 min\u001b[0m\n",
      "\u001b[32m2024-06-30 16:38:07.476\u001b[0m | \u001b[1mINFO    \u001b[0m | \u001b[36mkalpana.downscalingHeadLoss\u001b[0m:\u001b[36msetupHeadLoss\u001b[0m:\u001b[36m339\u001b[0m - \u001b[1m        Kalpana shape to raster: 0.00 min\u001b[0m\n",
      "\u001b[32m2024-06-30 16:38:07.773\u001b[0m | \u001b[1mINFO    \u001b[0m | \u001b[36mkalpana.downscaling\u001b[0m:\u001b[36mimportRasters_parallel\u001b[0m:\u001b[36m247\u001b[0m - \u001b[1mBegin importing DEMs\u001b[0m\n",
      "\u001b[32m2024-06-30 16:38:09.260\u001b[0m | \u001b[1mINFO    \u001b[0m | \u001b[36mkalpana.downscaling\u001b[0m:\u001b[36mimportRasters_parallel\u001b[0m:\u001b[36m249\u001b[0m - \u001b[1mFinish importing DEMs\u001b[0m\n",
      "\u001b[32m2024-06-30 16:38:09.260\u001b[0m | \u001b[1mINFO    \u001b[0m | \u001b[36mkalpana.downscalingHeadLoss\u001b[0m:\u001b[36msetupHeadLoss\u001b[0m:\u001b[36m344\u001b[0m - \u001b[1m        Import cost rasters: 0.03 min\u001b[0m\n",
      "\u001b[32m2024-06-30 16:38:09.355\u001b[0m | \u001b[1mINFO    \u001b[0m | \u001b[36mkalpana.downscalingHeadLoss\u001b[0m:\u001b[36msetupHeadLoss\u001b[0m:\u001b[36m354\u001b[0m - \u001b[1m        Rename cost rasters: 0.00 min\u001b[0m\n",
      "\u001b[32m2024-06-30 16:38:09.582\u001b[0m | \u001b[1mINFO    \u001b[0m | \u001b[36mkalpana.downscalingHeadLoss\u001b[0m:\u001b[36msetupHeadLoss\u001b[0m:\u001b[36m360\u001b[0m - \u001b[1m        Update cost raster: 0.00 min\u001b[0m\n",
      "\u001b[32m2024-06-30 16:38:09.583\u001b[0m | \u001b[1mINFO    \u001b[0m | \u001b[36mkalpana.downscalingHeadLoss\u001b[0m:\u001b[36mrunHeadLoss\u001b[0m:\u001b[36m607\u001b[0m - \u001b[1m    Downscaling preprocess: 0.038 min\u001b[0m\n",
      "\u001b[32m2024-06-30 16:38:09.827\u001b[0m | \u001b[1mINFO    \u001b[0m | \u001b[36mkalpana.downscalingHeadLoss\u001b[0m:\u001b[36mheadLossGrow\u001b[0m:\u001b[36m395\u001b[0m - \u001b[1m        Grown ADCIRC raw raster: 0.00 min\u001b[0m\n",
      "\u001b[32m2024-06-30 16:38:10.000\u001b[0m | \u001b[1mINFO    \u001b[0m | \u001b[36mkalpana.downscalingHeadLoss\u001b[0m:\u001b[36mheadLossGrow\u001b[0m:\u001b[36m402\u001b[0m - \u001b[1m        Create cum raw cost within ADCIRC extent: 0.00 min\u001b[0m\n",
      "\u001b[32m2024-06-30 16:38:10.248\u001b[0m | \u001b[1mINFO    \u001b[0m | \u001b[36mkalpana.downscalingHeadLoss\u001b[0m:\u001b[36mheadLossGrow\u001b[0m:\u001b[36m408\u001b[0m - \u001b[1m        Grow ADCIRC raw raster: 0.00 min\u001b[0m\n",
      "\u001b[32m2024-06-30 16:38:10.554\u001b[0m | \u001b[1mINFO    \u001b[0m | \u001b[36mkalpana.downscalingHeadLoss\u001b[0m:\u001b[36mheadLossGrow\u001b[0m:\u001b[36m418\u001b[0m - \u001b[1m        Compare extrapolated ADCIRC to cost : 0.01 min\u001b[0m\n",
      "\u001b[32m2024-06-30 16:38:10.729\u001b[0m | \u001b[1mINFO    \u001b[0m | \u001b[36mkalpana.downscalingHeadLoss\u001b[0m:\u001b[36mheadLossGrow\u001b[0m:\u001b[36m441\u001b[0m - \u001b[1m        Combined raw ADCIRC with grown result : 0.00 min\u001b[0m\n",
      "\u001b[32m2024-06-30 16:38:10.730\u001b[0m | \u001b[1mINFO    \u001b[0m | \u001b[36mkalpana.downscalingHeadLoss\u001b[0m:\u001b[36mrunHeadLoss\u001b[0m:\u001b[36m612\u001b[0m - \u001b[1m    Running downscaling: 0.019 min\u001b[0m\n",
      "   0   3   6   9  12  15  18  21  24  27  30  33  36  39  42  45  48  51  54  57  60  63  66  69  72  75  78  81  84  87  90  93  96  99 100\n",
      "\u001b[32m2024-06-30 16:38:11.804\u001b[0m | \u001b[1mINFO    \u001b[0m | \u001b[36mkalpana.downscalingHeadLoss\u001b[0m:\u001b[36mpostProcessHeadLoss\u001b[0m:\u001b[36m469\u001b[0m - \u001b[1m        correcting hydraulic connectivity: 0.018 min\u001b[0m\n",
      "\u001b[32m2024-06-30 16:38:11.954\u001b[0m | \u001b[1mINFO    \u001b[0m | \u001b[36mkalpana.downscalingHeadLoss\u001b[0m:\u001b[36mpostProcessHeadLoss\u001b[0m:\u001b[36m478\u001b[0m - \u001b[1m        export as tif level: 0.002 min\u001b[0m\n",
      "\u001b[32m2024-06-30 16:38:11.955\u001b[0m | \u001b[1mINFO    \u001b[0m | \u001b[36mkalpana.downscalingHeadLoss\u001b[0m:\u001b[36mrunHeadLoss\u001b[0m:\u001b[36m617\u001b[0m - \u001b[1m    Downscaling postprocessing: 0.020 min\u001b[0m\n",
      "\u001b[32m2024-06-30 16:38:11.955\u001b[0m | \u001b[1mINFO    \u001b[0m | \u001b[36mkalpana.downscalingHeadLoss\u001b[0m:\u001b[36mrunHeadLoss\u001b[0m:\u001b[36m625\u001b[0m - \u001b[1mKalpana finished sucsesfully after: 0.088 min\u001b[0m\n",
      "\u001b[32m2024-06-30 16:38:11.956\u001b[0m | \u001b[1mINFO    \u001b[0m | \u001b[36mkalpana.downscalingHeadLoss\u001b[0m:\u001b[36mrunHeadLoss\u001b[0m:\u001b[36m626\u001b[0m - \u001b[1mOutput files saved on: /home/tomas/github/Kalpana/examples/4_head_loss_downscaling\u001b[0m\n"
     ]
    }
   ],
   "source": [
    "runHeadLoss(ncFile, levels, epsgOut, vUnitOut, pathOut, grassVer, pathRasFiles, rasterFiles,\n",
    "            rawCostRas, totalCostRas, corrDownDEM, epsgIn=4326, vUnitIn='m', var='zeta_max', conType ='polygon', \n",
    "            subDomain=subDomain, epsgSubDom=epsgSubDom, dzFile=None, zeroDif=-20, distThreshold=1, k=7,\n",
    "            exagVal=1, nameGrassLocation=None, createGrassLocation=True, createLocMethod='from_raster', \n",
    "            attrCol='zMean', floodDepth=False, ras2vec=False, exportOrg=False, leveesFile = None, finalOutToLatLon=False)"
   ]
  },
  {
   "cell_type": "markdown",
   "metadata": {},
   "source": [
    "Clean"
   ]
  },
  {
   "cell_type": "code",
   "execution_count": 16,
   "metadata": {},
   "outputs": [],
   "source": [
    "os.remove(pathOutDownDemCorr)\n",
    "os.remove(pathOutTotalCostRas)\n",
    "os.remove(pathOutRawCostRas)\n",
    "\n",
    "shutil.rmtree('grassLoc')\n",
    "\n",
    "for x in [x for x in os.listdir('.') if x.startswith('Irene_headLoss')]:\n",
    "    os.remove(x)"
   ]
  }
 ],
 "metadata": {
  "kernelspec": {
   "display_name": "kalpana",
   "language": "python",
   "name": "python3"
  },
  "language_info": {
   "codemirror_mode": {
    "name": "ipython",
    "version": 3
   },
   "file_extension": ".py",
   "mimetype": "text/x-python",
   "name": "python",
   "nbconvert_exporter": "python",
   "pygments_lexer": "ipython3",
   "version": "3.10.14"
  }
 },
 "nbformat": 4,
 "nbformat_minor": 2
}
