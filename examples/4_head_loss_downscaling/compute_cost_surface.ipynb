{
 "cells": [
  {
   "cell_type": "code",
   "execution_count": 21,
   "metadata": {},
   "outputs": [],
   "source": [
    "# %%\n",
    "import os\n",
    "import shutil\n",
    "from pathlib import Path\n",
    "from kalpana.downscalingHeadLoss import preCompCostSurface"
   ]
  },
  {
   "cell_type": "markdown",
   "metadata": {},
   "source": [
    "This is a preprocessing step, so it only needs to be run once per mesh because it only depends on the mesh and downscaling DEM and not on the storm"
   ]
  },
  {
   "cell_type": "code",
   "execution_count": 17,
   "metadata": {},
   "outputs": [],
   "source": [
    "## grass version\n",
    "grassVer = 8.2\n",
    "\n",
    "## boolean flag for creating a GRASS GIS location\n",
    "createGrassLocation = True\n",
    "\n",
    "## path to the grass location\n",
    "pathGrassLocation = os.getcwd()\n",
    "\n",
    "## path of the downscaling raster\n",
    "pathRasFiles  = str(Path(os.getcwd()).parent.parent/'adds/inputs_examples')\n",
    "\n",
    "## downscaling raster file name\n",
    "rasterFiles = 'NC_CoNED_subset_100m.tif'\n",
    "\n",
    "path_manning = str(Path(os.getcwd()).parent.parent/'adds/manning')\n",
    "\n",
    "## full path of the land cover DEM\n",
    "manningRasPath = os.path.join(path_manning, \"NLCD_2016_Land_Cover_L48_20190424_subset_50m_NC_epsg6346.tif\")\n",
    "\n",
    "## rules list to convert from land cover to manning\n",
    "manningLandCover = os.path.join(path_manning, \"landCover_manning.txt\")\n",
    "\n",
    "## coordinate reference system \n",
    "epsg = 6346\n",
    "\n",
    "## full path of the output dem with the raw cost\n",
    "pathOutRawCostRas = os.path.join(pathGrassLocation, 'rawCostRaster_NCconed100m.tif')\n",
    "\n",
    "## full path of the output dem with the total cost\n",
    "pathOutTotalCostRas = os.path.join(pathGrassLocation, 'totalCostRaster_NCconed100m.tif')\n",
    "\n",
    "## full path of the output downscaling DEM. In case the downscaling DEM does not have bathy,\n",
    "## cells with water land cover class are set to bathymetry 0 so water cells are included in the calculations.\n",
    "pathOutDownDemCorr = os.path.join(pathGrassLocation, 'downDemCorr_NCconed100m.tif')"
   ]
  },
  {
   "cell_type": "code",
   "execution_count": 18,
   "metadata": {},
   "outputs": [
    {
     "name": "stderr",
     "output_type": "stream",
     "text": [
      "\u001b[32m2024-06-29 18:12:09.174\u001b[0m | \u001b[1mINFO    \u001b[0m | \u001b[36mkalpana.downscalingHeadLoss\u001b[0m:\u001b[36mpreCompCostSurface\u001b[0m:\u001b[36m245\u001b[0m - \u001b[1mStatic downscaling started\u001b[0m\n",
      "\u001b[32m2024-06-29 18:12:09.212\u001b[0m | \u001b[1mINFO    \u001b[0m | \u001b[36mkalpana.downscalingHeadLoss\u001b[0m:\u001b[36mpreCompCostSurface\u001b[0m:\u001b[36m261\u001b[0m - \u001b[1m    Start Setup grass environment\u001b[0m\n",
      "\u001b[32m2024-06-29 18:12:09.212\u001b[0m | \u001b[1mINFO    \u001b[0m | \u001b[36mkalpana.downscaling\u001b[0m:\u001b[36msetGrassEnv\u001b[0m:\u001b[36m337\u001b[0m - \u001b[1m        rasters to list:  0.000 min\u001b[0m\n",
      "\u001b[32m2024-06-29 18:12:09.332\u001b[0m | \u001b[1mINFO    \u001b[0m | \u001b[36mkalpana.downscaling\u001b[0m:\u001b[36msetGrassEnv\u001b[0m:\u001b[36m341\u001b[0m - \u001b[1m        create location:  0.002 min\u001b[0m\n",
      "\u001b[32m2024-06-29 18:12:09.333\u001b[0m | \u001b[1mINFO    \u001b[0m | \u001b[36mkalpana.downscaling\u001b[0m:\u001b[36msetGrassEnv\u001b[0m:\u001b[36m347\u001b[0m - \u001b[1m        init grass:  0.000 min\u001b[0m\n",
      "\u001b[32m2024-06-29 18:12:09.587\u001b[0m | \u001b[1mINFO    \u001b[0m | \u001b[36mkalpana.downscaling\u001b[0m:\u001b[36msetGrassEnv\u001b[0m:\u001b[36m352\u001b[0m - \u001b[1m        import raster:  0.004 min\u001b[0m\n",
      "\u001b[32m2024-06-29 18:12:09.652\u001b[0m | \u001b[1mINFO    \u001b[0m | \u001b[36mkalpana.downscaling\u001b[0m:\u001b[36msetGrassEnv\u001b[0m:\u001b[36m356\u001b[0m - \u001b[1m        set downscaling dem:  0.001 min\u001b[0m\n",
      "\u001b[32m2024-06-29 18:12:09.653\u001b[0m | \u001b[1mINFO    \u001b[0m | \u001b[36mkalpana.downscalingHeadLoss\u001b[0m:\u001b[36mpreCompCostSurface\u001b[0m:\u001b[36m270\u001b[0m - \u001b[1m    Setup grass environment: 0.01 min\u001b[0m\n",
      "\u001b[32m2024-06-29 18:12:10.735\u001b[0m | \u001b[1mINFO    \u001b[0m | \u001b[36mkalpana.downscalingHeadLoss\u001b[0m:\u001b[36mpreCompCostSurface\u001b[0m:\u001b[36m282\u001b[0m - \u001b[1m    Set Manning's raster 0.02 min\u001b[0m\n",
      "\u001b[32m2024-06-29 18:12:12.189\u001b[0m | \u001b[1mINFO    \u001b[0m | \u001b[36mkalpana.downscalingHeadLoss\u001b[0m:\u001b[36mpreCompCostSurface\u001b[0m:\u001b[36m287\u001b[0m - \u001b[1m    Set MSL raster 0.02 min\u001b[0m\n",
      "\u001b[32m2024-06-29 18:12:12.190\u001b[0m | \u001b[1mINFO    \u001b[0m | \u001b[36mkalpana.downscalingHeadLoss\u001b[0m:\u001b[36mpreCompCostSurface\u001b[0m:\u001b[36m289\u001b[0m - \u001b[1m    Started the cost surface computation, may take some hours\u001b[0m\n",
      "\u001b[32m2024-06-29 18:12:12.315\u001b[0m | \u001b[1mINFO    \u001b[0m | \u001b[36mkalpana.downscalingHeadLoss\u001b[0m:\u001b[36mcostSurface\u001b[0m:\u001b[36m165\u001b[0m - \u001b[1m        Starting r.wak iterations\u001b[0m\n",
      "\u001b[32m2024-06-29 18:12:13.795\u001b[0m | \u001b[1mINFO    \u001b[0m | \u001b[36mkalpana.downscalingHeadLoss\u001b[0m:\u001b[36mcostSurface\u001b[0m:\u001b[36m186\u001b[0m - \u001b[1m        Done with iteration 1/25 after 0.02 min\u001b[0m\n",
      "\u001b[32m2024-06-29 18:12:15.280\u001b[0m | \u001b[1mINFO    \u001b[0m | \u001b[36mkalpana.downscalingHeadLoss\u001b[0m:\u001b[36mcostSurface\u001b[0m:\u001b[36m186\u001b[0m - \u001b[1m        Done with iteration 2/25 after 0.02 min\u001b[0m\n",
      "\u001b[32m2024-06-29 18:12:16.755\u001b[0m | \u001b[1mINFO    \u001b[0m | \u001b[36mkalpana.downscalingHeadLoss\u001b[0m:\u001b[36mcostSurface\u001b[0m:\u001b[36m186\u001b[0m - \u001b[1m        Done with iteration 3/25 after 0.02 min\u001b[0m\n",
      "\u001b[32m2024-06-29 18:12:18.239\u001b[0m | \u001b[1mINFO    \u001b[0m | \u001b[36mkalpana.downscalingHeadLoss\u001b[0m:\u001b[36mcostSurface\u001b[0m:\u001b[36m186\u001b[0m - \u001b[1m        Done with iteration 4/25 after 0.02 min\u001b[0m\n",
      "\u001b[32m2024-06-29 18:12:19.709\u001b[0m | \u001b[1mINFO    \u001b[0m | \u001b[36mkalpana.downscalingHeadLoss\u001b[0m:\u001b[36mcostSurface\u001b[0m:\u001b[36m186\u001b[0m - \u001b[1m        Done with iteration 5/25 after 0.02 min\u001b[0m\n",
      "\u001b[32m2024-06-29 18:12:21.086\u001b[0m | \u001b[1mINFO    \u001b[0m | \u001b[36mkalpana.downscalingHeadLoss\u001b[0m:\u001b[36mcostSurface\u001b[0m:\u001b[36m186\u001b[0m - \u001b[1m        Done with iteration 6/25 after 0.02 min\u001b[0m\n",
      "\u001b[32m2024-06-29 18:12:22.249\u001b[0m | \u001b[1mINFO    \u001b[0m | \u001b[36mkalpana.downscalingHeadLoss\u001b[0m:\u001b[36mcostSurface\u001b[0m:\u001b[36m186\u001b[0m - \u001b[1m        Done with iteration 7/25 after 0.02 min\u001b[0m\n",
      "\u001b[32m2024-06-29 18:12:23.675\u001b[0m | \u001b[1mINFO    \u001b[0m | \u001b[36mkalpana.downscalingHeadLoss\u001b[0m:\u001b[36mcostSurface\u001b[0m:\u001b[36m186\u001b[0m - \u001b[1m        Done with iteration 8/25 after 0.02 min\u001b[0m\n",
      "\u001b[32m2024-06-29 18:12:25.116\u001b[0m | \u001b[1mINFO    \u001b[0m | \u001b[36mkalpana.downscalingHeadLoss\u001b[0m:\u001b[36mcostSurface\u001b[0m:\u001b[36m186\u001b[0m - \u001b[1m        Done with iteration 9/25 after 0.02 min\u001b[0m\n",
      "\u001b[32m2024-06-29 18:12:26.582\u001b[0m | \u001b[1mINFO    \u001b[0m | \u001b[36mkalpana.downscalingHeadLoss\u001b[0m:\u001b[36mcostSurface\u001b[0m:\u001b[36m186\u001b[0m - \u001b[1m        Done with iteration 10/25 after 0.02 min\u001b[0m\n",
      "\u001b[32m2024-06-29 18:12:27.950\u001b[0m | \u001b[1mINFO    \u001b[0m | \u001b[36mkalpana.downscalingHeadLoss\u001b[0m:\u001b[36mcostSurface\u001b[0m:\u001b[36m186\u001b[0m - \u001b[1m        Done with iteration 11/25 after 0.02 min\u001b[0m\n",
      "\u001b[32m2024-06-29 18:12:28.988\u001b[0m | \u001b[1mINFO    \u001b[0m | \u001b[36mkalpana.downscalingHeadLoss\u001b[0m:\u001b[36mcostSurface\u001b[0m:\u001b[36m186\u001b[0m - \u001b[1m        Done with iteration 12/25 after 0.02 min\u001b[0m\n",
      "\u001b[32m2024-06-29 18:12:30.024\u001b[0m | \u001b[1mINFO    \u001b[0m | \u001b[36mkalpana.downscalingHeadLoss\u001b[0m:\u001b[36mcostSurface\u001b[0m:\u001b[36m186\u001b[0m - \u001b[1m        Done with iteration 13/25 after 0.02 min\u001b[0m\n",
      "\u001b[32m2024-06-29 18:12:30.949\u001b[0m | \u001b[1mINFO    \u001b[0m | \u001b[36mkalpana.downscalingHeadLoss\u001b[0m:\u001b[36mcostSurface\u001b[0m:\u001b[36m186\u001b[0m - \u001b[1m        Done with iteration 14/25 after 0.02 min\u001b[0m\n",
      "\u001b[32m2024-06-29 18:12:32.404\u001b[0m | \u001b[1mINFO    \u001b[0m | \u001b[36mkalpana.downscalingHeadLoss\u001b[0m:\u001b[36mcostSurface\u001b[0m:\u001b[36m186\u001b[0m - \u001b[1m        Done with iteration 15/25 after 0.02 min\u001b[0m\n",
      "\u001b[32m2024-06-29 18:12:33.837\u001b[0m | \u001b[1mINFO    \u001b[0m | \u001b[36mkalpana.downscalingHeadLoss\u001b[0m:\u001b[36mcostSurface\u001b[0m:\u001b[36m186\u001b[0m - \u001b[1m        Done with iteration 16/25 after 0.02 min\u001b[0m\n",
      "\u001b[32m2024-06-29 18:12:35.300\u001b[0m | \u001b[1mINFO    \u001b[0m | \u001b[36mkalpana.downscalingHeadLoss\u001b[0m:\u001b[36mcostSurface\u001b[0m:\u001b[36m186\u001b[0m - \u001b[1m        Done with iteration 17/25 after 0.02 min\u001b[0m\n",
      "\u001b[32m2024-06-29 18:12:36.140\u001b[0m | \u001b[1mINFO    \u001b[0m | \u001b[36mkalpana.downscalingHeadLoss\u001b[0m:\u001b[36mcostSurface\u001b[0m:\u001b[36m186\u001b[0m - \u001b[1m        Done with iteration 18/25 after 0.01 min\u001b[0m\n",
      "\u001b[32m2024-06-29 18:12:36.735\u001b[0m | \u001b[1mINFO    \u001b[0m | \u001b[36mkalpana.downscalingHeadLoss\u001b[0m:\u001b[36mcostSurface\u001b[0m:\u001b[36m186\u001b[0m - \u001b[1m        Done with iteration 19/25 after 0.01 min\u001b[0m\n",
      "\u001b[32m2024-06-29 18:12:38.196\u001b[0m | \u001b[1mINFO    \u001b[0m | \u001b[36mkalpana.downscalingHeadLoss\u001b[0m:\u001b[36mcostSurface\u001b[0m:\u001b[36m186\u001b[0m - \u001b[1m        Done with iteration 20/25 after 0.02 min\u001b[0m\n",
      "\u001b[32m2024-06-29 18:12:39.648\u001b[0m | \u001b[1mINFO    \u001b[0m | \u001b[36mkalpana.downscalingHeadLoss\u001b[0m:\u001b[36mcostSurface\u001b[0m:\u001b[36m186\u001b[0m - \u001b[1m        Done with iteration 21/25 after 0.02 min\u001b[0m\n",
      "\u001b[32m2024-06-29 18:12:40.995\u001b[0m | \u001b[1mINFO    \u001b[0m | \u001b[36mkalpana.downscalingHeadLoss\u001b[0m:\u001b[36mcostSurface\u001b[0m:\u001b[36m186\u001b[0m - \u001b[1m        Done with iteration 22/25 after 0.02 min\u001b[0m\n",
      "\u001b[32m2024-06-29 18:12:41.913\u001b[0m | \u001b[1mINFO    \u001b[0m | \u001b[36mkalpana.downscalingHeadLoss\u001b[0m:\u001b[36mcostSurface\u001b[0m:\u001b[36m186\u001b[0m - \u001b[1m        Done with iteration 23/25 after 0.02 min\u001b[0m\n",
      "\u001b[32m2024-06-29 18:12:43.449\u001b[0m | \u001b[1mINFO    \u001b[0m | \u001b[36mkalpana.downscalingHeadLoss\u001b[0m:\u001b[36mcostSurface\u001b[0m:\u001b[36m186\u001b[0m - \u001b[1m        Done with iteration 24/25 after 0.03 min\u001b[0m\n",
      "\u001b[32m2024-06-29 18:12:44.998\u001b[0m | \u001b[1mINFO    \u001b[0m | \u001b[36mkalpana.downscalingHeadLoss\u001b[0m:\u001b[36mcostSurface\u001b[0m:\u001b[36m186\u001b[0m - \u001b[1m        Done with iteration 25/25 after 0.03 min\u001b[0m\n",
      "\u001b[32m2024-06-29 18:12:44.999\u001b[0m | \u001b[1mINFO    \u001b[0m | \u001b[36mkalpana.downscalingHeadLoss\u001b[0m:\u001b[36mcostSurface\u001b[0m:\u001b[36m189\u001b[0m - \u001b[1m    r.walk finished after 0.54 min\u001b[0m\n",
      "\u001b[32m2024-06-29 18:12:45.191\u001b[0m | \u001b[1mINFO    \u001b[0m | \u001b[36mkalpana.downscalingHeadLoss\u001b[0m:\u001b[36mcostSurface\u001b[0m:\u001b[36m193\u001b[0m - \u001b[1m    Assigning elevation 0 to null cells clasified as water 0.03 min\u001b[0m\n",
      "\u001b[32m2024-06-29 18:12:45.439\u001b[0m | \u001b[1mINFO    \u001b[0m | \u001b[36mkalpana.downscalingHeadLoss\u001b[0m:\u001b[36mcostSurface\u001b[0m:\u001b[36m199\u001b[0m - \u001b[1m    Raw cost calculation 0.00 min\u001b[0m\n",
      "\u001b[32m2024-06-29 18:12:45.887\u001b[0m | \u001b[1mINFO    \u001b[0m | \u001b[36mkalpana.downscalingHeadLoss\u001b[0m:\u001b[36mpreCompCostSurface\u001b[0m:\u001b[36m299\u001b[0m - \u001b[1m    Compute cost surface 0.56 min\u001b[0m\n"
     ]
    }
   ],
   "source": [
    "preCompCostSurface(grassVer, createGrassLocation, pathGrassLocation, pathRasFiles, rasterFiles, epsg, manningRasPath, manningLandCover, \n",
    "                                    pathOutRawCostRas, pathOutTotalCostRas, pathOutDownDemCorr, nameGrassLocation = None, createLocMethod = 'from_raster', URConstant=1, \n",
    "                                    k=1, waterClass=11, minArea=20000000, res=5, slopeFactor=-0.2125, walkCoeefs=[0, 1, -1, -1])"
   ]
  },
  {
   "cell_type": "markdown",
   "metadata": {},
   "source": [
    "Clean"
   ]
  },
  {
   "cell_type": "code",
   "execution_count": 23,
   "metadata": {},
   "outputs": [],
   "source": [
    "os.remove(pathOutDownDemCorr)\n",
    "os.remove(pathOutTotalCostRas)\n",
    "os.remove(pathOutRawCostRas)\n",
    "\n",
    "shutil.rmtree('grassLoc')"
   ]
  }
 ],
 "metadata": {
  "kernelspec": {
   "display_name": "kalpana",
   "language": "python",
   "name": "python3"
  },
  "language_info": {
   "codemirror_mode": {
    "name": "ipython",
    "version": 3
   },
   "file_extension": ".py",
   "mimetype": "text/x-python",
   "name": "python",
   "nbconvert_exporter": "python",
   "pygments_lexer": "ipython3",
   "version": "3.10.14"
  }
 },
 "nbformat": 4,
 "nbformat_minor": 2
}
