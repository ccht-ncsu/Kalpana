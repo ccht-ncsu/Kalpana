{
 "cells": [
  {
   "cell_type": "code",
   "execution_count": 34,
   "metadata": {},
   "outputs": [],
   "source": [
    "import os\n",
    "from kalpana.export import fort14togdf\n",
    "from kalpana.ADCIRC_tools import subsetMesh, NNfort13"
   ]
  },
  {
   "cell_type": "markdown",
   "metadata": {},
   "source": [
    "#### Interpolate fort.13 from one mesh to another"
   ]
  },
  {
   "cell_type": "markdown",
   "metadata": {},
   "source": [
    "In this example we use ```NNfort13``` function to interpolate a fort.13 file from one mesh a new one using nearest neighbor"
   ]
  },
  {
   "cell_type": "code",
   "execution_count": 6,
   "metadata": {},
   "outputs": [],
   "source": [
    "attrs = {\n",
    "            ' surface_directional_effective_roughness_length': 3,\n",
    "            ' surface_canopy_coefficient': 3,\n",
    "            ' mannings_n_at_sea_floor': 3,\n",
    "            ' primitive_weighting_in_continuity_equation': 3,\n",
    "            ' average_horizontal_eddy_viscosity_in_sea_water_wrt_depth': 3,\n",
    "            ' wave_refraction_in_swan': 3\n",
    "        }"
   ]
  },
  {
   "cell_type": "code",
   "execution_count": 7,
   "metadata": {},
   "outputs": [
    {
     "name": "stderr",
     "output_type": "stream",
     "text": [
      "100%|██████████| 6/6 [00:15<00:00,  2.63s/it]\n"
     ]
    }
   ],
   "source": [
    "NNfort13(r'/home/tomas/Desktop/f13/fort.14',\n",
    "         r'/home/tomas/github/Kalpana/adds/inputs_examples/fort_NC.14',\n",
    "         r'/home/tomas/Desktop/f13/fort.13',\n",
    "         r'/home/tomas/github/Kalpana/adds/inputs_examples/fort_NC.13',\n",
    "         attrs\n",
    "         )"
   ]
  },
  {
   "cell_type": "markdown",
   "metadata": {},
   "source": [
    "First we will create the new fort.14 as shown in example 'mesh_subset.ipynb'"
   ]
  },
  {
   "cell_type": "code",
   "execution_count": 9,
   "metadata": {},
   "outputs": [
    {
     "name": "stdout",
     "output_type": "stream",
     "text": [
      "Mesh subset process started\n",
      "  Mesh nodes as DataFrame: 0.00 min\n",
      "  Mesh to GeoDataFrame: 0.10 min\n",
      "  Read subdomain: 0.00 min\n",
      "  Subset mesh: 0.01 min\n",
      "  Read fort.14 boundary conditions: 0.00 min\n",
      "  Update numbering ocean boundary condition: 0.00 min\n",
      "  Update numbering closed land boundary conditions: 0.00 min\n",
      "  Update numbering open land boundary conditions: 0.15 min\n",
      "  Writing new fort.14: 0.17 min\n",
      "Done with fort.14 subset: 0.44 min\n"
     ]
    }
   ],
   "source": [
    "f14new = subsetMesh(r'../../adds/inputs_examples/fort_NC.14',\n",
    "                    r'../../adds/inputs_examples/subset_mesh.gpkg',\n",
    "                    r'fort_NC_subset.14')"
   ]
  },
  {
   "cell_type": "markdown",
   "metadata": {},
   "source": [
    "Then we need to define a dictionary with the attributes we want to interpolate, the names needs to match exactly so be careful with the empty spaces. The value of each item corresponds to the amount of lines each attribute has in the fort.13 header"
   ]
  },
  {
   "cell_type": "code",
   "execution_count": 12,
   "metadata": {},
   "outputs": [],
   "source": [
    "with open(r'../../adds/inputs_examples/fort_NC.13', 'r') as fin:\n",
    "    lines = fin.readlines()"
   ]
  },
  {
   "cell_type": "code",
   "execution_count": 14,
   "metadata": {},
   "outputs": [
    {
     "data": {
      "text/plain": [
       "['Spatial attributes descrption. File generated with NNfort13 on 2024-06-17 using /home/tomas/Desktop/f13/fort.14 and /home/tomas/Desktop/f13/fort.13 as basefiles, and /home/tomas/github/Kalpana/adds/inputs_examples/fort_NC.14 as the new mesh\\n',\n",
       " '145710\\n',\n",
       " '6\\n',\n",
       " ' surface_directional_effective_roughness_length\\n',\n",
       " ' m                                                 \\n',\n",
       " ' 12\\n',\n",
       " ' 0.0E+0 0.0E+0 0.0E+0 0.0E+0 0.0E+0 0.0E+0 0.0E+0 0.0E+0 0.0E+0 0.0E+0 0.0E+0 0.0E+0\\n',\n",
       " ' surface_canopy_coefficient\\n',\n",
       " ' 1                                                 \\n',\n",
       " ' 1\\n',\n",
       " ' 1.0\\n',\n",
       " ' mannings_n_at_sea_floor\\n',\n",
       " ' 1                                                 \\n',\n",
       " ' 1\\n',\n",
       " ' 0.02\\n',\n",
       " ' primitive_weighting_in_continuity_equation\\n',\n",
       " ' 1                                                 \\n',\n",
       " ' 1\\n',\n",
       " ' 0.03\\n',\n",
       " ' average_horizontal_eddy_viscosity_in_sea_water_wrt_depth\\n']"
      ]
     },
     "execution_count": 14,
     "metadata": {},
     "output_type": "execute_result"
    }
   ],
   "source": [
    "lines[:20]"
   ]
  },
  {
   "cell_type": "markdown",
   "metadata": {},
   "source": [
    "There are 3 lines under ```surface_directional_effective_roughness_length``` before it gets to the next attribute ```surface_canopy_coefficient```"
   ]
  },
  {
   "cell_type": "code",
   "execution_count": 15,
   "metadata": {},
   "outputs": [],
   "source": [
    "attrs = {\n",
    "            ' surface_directional_effective_roughness_length': 3,\n",
    "            ' surface_canopy_coefficient': 3,\n",
    "            ' mannings_n_at_sea_floor': 3,\n",
    "            ' primitive_weighting_in_continuity_equation': 3,\n",
    "            ' average_horizontal_eddy_viscosity_in_sea_water_wrt_depth': 3,\n",
    "            ' wave_refraction_in_swan': 3\n",
    "        }"
   ]
  },
  {
   "cell_type": "code",
   "execution_count": 30,
   "metadata": {},
   "outputs": [
    {
     "name": "stderr",
     "output_type": "stream",
     "text": [
      "100%|██████████| 6/6 [00:24<00:00,  4.06s/it]\n"
     ]
    }
   ],
   "source": [
    "NNfort13(r'../../adds/inputs_examples/fort_NC.14',\n",
    "         r'fort_NC_subset.14',\n",
    "         r'../../adds/inputs_examples/fort_NC.13',\n",
    "         r'fort_NC_subset.13',\n",
    "         attrs\n",
    "         )"
   ]
  },
  {
   "cell_type": "code",
   "execution_count": 32,
   "metadata": {},
   "outputs": [
    {
     "data": {
      "text/plain": [
       "['Spatial attributes descrption. File generated with NNfort13 on 2024-06-17 using /home/tomas/github/Kalpana/adds/inputs_examples/fort_NC.14 and /home/tomas/github/Kalpana/adds/inputs_examples/fort_NC.13 as basefiles, and fort_NC_subset.14 as the new mesh\\n',\n",
       " '145274\\n',\n",
       " '6\\n',\n",
       " ' surface_directional_effective_roughness_length\\n',\n",
       " ' m                                                \\n',\n",
       " ' 12\\n',\n",
       " ' 0.0E+0 0.0E+0 0.0E+0 0.0E+0 0.0E+0 0.0E+0 0.0E+0 0.0E+0 0.0E+0 0.0E+0 0.0E+0 0.0E+0\\n',\n",
       " ' surface_canopy_coefficient\\n',\n",
       " ' 1                                                \\n',\n",
       " ' 1\\n',\n",
       " ' 1.0\\n',\n",
       " ' mannings_n_at_sea_floor\\n',\n",
       " ' 1                                                \\n',\n",
       " ' 1\\n',\n",
       " ' 0.02\\n',\n",
       " ' primitive_weighting_in_continuity_equation\\n',\n",
       " ' 1                                                \\n',\n",
       " ' 1\\n',\n",
       " ' 0.03\\n',\n",
       " ' average_horizontal_eddy_viscosity_in_sea_water_wrt_depth\\n']"
      ]
     },
     "execution_count": 32,
     "metadata": {},
     "output_type": "execute_result"
    }
   ],
   "source": [
    "with open(r'fort_NC_subset.13', 'r') as fin:\n",
    "    lines = fin.readlines()\n",
    "lines[:20]"
   ]
  },
  {
   "cell_type": "markdown",
   "metadata": {},
   "source": [
    "The new fort.13 has less nodes since the new mesh is lower"
   ]
  },
  {
   "cell_type": "code",
   "execution_count": 35,
   "metadata": {},
   "outputs": [],
   "source": [
    "os.remove('fort_NC_subset.13')\n",
    "os.remove('fort_NC_subset.14')"
   ]
  },
  {
   "cell_type": "code",
   "execution_count": null,
   "metadata": {},
   "outputs": [],
   "source": []
  }
 ],
 "metadata": {
  "kernelspec": {
   "display_name": "kalpana",
   "language": "python",
   "name": "python3"
  },
  "language_info": {
   "codemirror_mode": {
    "name": "ipython",
    "version": 3
   },
   "file_extension": ".py",
   "mimetype": "text/x-python",
   "name": "python",
   "nbconvert_exporter": "python",
   "pygments_lexer": "ipython3",
   "version": "3.10.14"
  }
 },
 "nbformat": 4,
 "nbformat_minor": 2
}
