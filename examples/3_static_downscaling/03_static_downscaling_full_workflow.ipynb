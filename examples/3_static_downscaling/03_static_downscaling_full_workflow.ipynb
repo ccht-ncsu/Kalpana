{
 "cells": [
  {
   "cell_type": "markdown",
   "metadata": {},
   "source": [
    "## 3-3 : Static Downscaling with Full Workflow\n",
    "<em>Created by Tomás Cuevas López in 2024, modified by Casey Dietrich in 2024.</em><br>\n",
    "<br>\n",
    "This example will show how to use the full workflow for static downscaling, including the pre-processing of the ADCIRC mesh.<br>\n",
    "<br>\n",
    "This example is a simple combination of the previous two examples. Previously, we used two steps to (a) pre-process the ADCIRC mesh to create a raster DEM with the mesh element sizes, and (b) downscale the ADCIRC maximum water levels. In this example, we do everything as one step. This can take longer, especially if the mesh and/or DEM are large.<br>\n",
    "<br>\n",
    "We use files from a simulation of Hurricane Ida, which devastated the south Louisiana coast in 2021. To minimize the file sizes in this repository, we created a small mesh that includes Grand Isle and Barataria Bay. Then we simulated Ida by using the NHC best-track storm parameters in a vortex wind model. The simulated storm effects are meant to be useful as an example, but they should not be relied on for any decision making."
   ]
  },
  {
   "cell_type": "markdown",
   "metadata": {},
   "source": [
    "## Preliminaries"
   ]
  },
  {
   "cell_type": "code",
   "execution_count": 1,
   "metadata": {},
   "outputs": [],
   "source": [
    "import os\n",
    "import glob\n",
    "import shutil\n",
    "from pathlib import Path\n",
    "from kalpana.downscaling import runStatic"
   ]
  },
  {
   "cell_type": "markdown",
   "metadata": {},
   "source": [
    "## Full Workflow for Static Downscaling"
   ]
  },
  {
   "cell_type": "markdown",
   "metadata": {},
   "source": [
    "The following cell defines our parameters for the mesh pre-processing. All of these parameters are repeated from Example 3-1."
   ]
  },
  {
   "cell_type": "code",
   "execution_count": 2,
   "metadata": {},
   "outputs": [],
   "source": [
    "######## For more detail about the meshRepLen2raster inputs, please read the function's docstring.\n",
    "\n",
    "## Use a Python function to get the path for the current working directory.\n",
    "cwd = Path(os.getcwd())\n",
    "\n",
    "## Path of the ADCIRC mesh file (fort.14).\n",
    "fort14 = str(cwd.parent.parent/'adds'/'ida'/'fort.14')\n",
    "\n",
    "## Coordinate system of the ADCIRC input.\n",
    "## Default is 4326 because ADCIRC uses latitude and longitude.\n",
    "epsgIn = 4326\n",
    "\n",
    "## Coordinate system of the new raster DEM with the mesh element sizes.\n",
    "## We use a pseudo-Mercator (3857), but UTM projections (e.g. 6344, 6345) can also work fine.\n",
    "epsgOut = 3857\n",
    "\n",
    "## Path of the new raster with the mesh element sizes.\n",
    "## Kalpana will create both a raster DEM (geoTIFF) and a shapefile.\n",
    "pathOut = os.path.join(cwd, 'CUDEM_merged_10m_crs3857_mesh.shp') \n",
    "\n",
    "## Version of GRASS GIS.\n",
    "grassVer = 8.3 ## versions 8.2 and 8.3 work\n",
    "\n",
    "## Path to the folder with the input DEM with the ground surface elevations.\n",
    "pathRasFiles = str(cwd.parent.parent/'adds'/'ida')\n",
    "\n",
    "## Name(s) of input DEM(s) with the ground surface elevations.\n",
    "rasterFiles = 'CUDEM_merged_10m_crs3857.tif'\n",
    "\n",
    "## Bounding box for the downscaling raster.\n",
    "## In this example, we will use the same downscaling raster bounding box as the input DEM. \n",
    "subDomain = os.path.join(pathRasFiles, rasterFiles) \n",
    "\n",
    "## Name of the GRASS location.\n",
    "nameGrassLocation = None\n",
    "\n",
    "## True for creating a new location and loading DEMs, false to use an existing location with DEMs already imported.\n",
    "createGrassLocation = True\n",
    "\n",
    "## Method for assigning the crs to the grass location.\n",
    "## Two options 'from_epsg' or 'from_raster' otherwise an error will be thrown.\n",
    "## In this example, we use the projection from the input DEM.\n",
    "createLocMethod = 'from_raster'"
   ]
  },
  {
   "cell_type": "markdown",
   "metadata": {},
   "source": [
    "The following cell defines our parameters for the static downscaling. Note that a few parameters have changed from Example 3-2: <code>exportMesh</code> is True, <code>nameGrassLocation</code> is None, and <code>createGrassLocation</code> is True."
   ]
  },
  {
   "cell_type": "code",
   "execution_count": 3,
   "metadata": {},
   "outputs": [],
   "source": [
    "######## For more detail about the runStatic inputs, please read the function's docstring.\n",
    "\n",
    "## Full path of the ADCIRC maxele file.\n",
    "cwd = Path(os.getcwd())\n",
    "ncFile = str(cwd.parent.parent/'adds'/'ida'/'maxele.63.nc') \n",
    "\n",
    "## Contour levels to use in the downscaling.\n",
    "## From 0 to 6 m (included) every 0.5 m.\n",
    "levels = [0, 6, 0.5]\n",
    "\n",
    "## Projection to use for the output downscaled DEM.\n",
    "## In this example, we use pseudo-Mercator (3857), but a user could also use UTM (e.g. 6344, 6345).\n",
    "epsgOut = 3857\n",
    "\n",
    "## Full path for the output downscaled DEM.\n",
    "## Same path is used for saving rasters and the grass location.\n",
    "pathOut = os.path.join(os.getcwd(), 'maxele_Ida.shp')\n",
    "\n",
    "## Version of GRASS GIS.\n",
    "grassVer = 8.3 ## versions 8.2 and 8.3 work\n",
    "\n",
    "## Path to the folder with the input DEM with the ground surface elevations.\n",
    "pathRasFiles = str(cwd.parent.parent/'adds'/'ida')\n",
    "\n",
    "## Name(s) of input DEM(s) with the ground surface elevations.\n",
    "rasterFiles = 'CUDEM_merged_10m_crs3857.tif'\n",
    "\n",
    "## Full path of the raster DEM with the mesh element sizes.\n",
    "meshFile = r'CUDEM_merged_10m_crs3857_mesh.tif'\n",
    "\n",
    "## Coordinate system of the ADCIRC input.\n",
    "## Default is 4326 because ADCIRC uses latitude and longitude.\n",
    "epsgIn = 4326\n",
    "\n",
    "## Vertical unit of the ADCIRC maximum water levels.\n",
    "vUnitIn = 'm'\n",
    "\n",
    "## Vertical unit of the downscaled water levels.\n",
    "vUnitOut = 'm'\n",
    "\n",
    "## Name of the maxele variable to downscale.\n",
    "var = 'zeta_max'\n",
    "\n",
    "## Contours type.\n",
    "conType = 'polygon' ## Always 'polygon' for downscaling.\n",
    "\n",
    "## Bounding box for the downscaling raster.\n",
    "## Full path of file (kml, kmz, shp, gpkg or tif) to crop the domain.\n",
    "## In this example, we will use the same downscaling raster bounding box as the input DEM. \n",
    "subDomain = os.path.join(pathRasFiles, rasterFiles)\n",
    "\n",
    "## Projection (epsg code or crs) of the subDomain.\n",
    "## In this example, as we are using the downscaling dem bounding box as the subdomain, so the same epsg code must be specified.\n",
    "epsgSubDom = 3857\n",
    "\n",
    "## Boolean for exporting the mesh as a shape file from maxele.\n",
    "## Necessary in this example because the mesh was not exported as preprocess.\n",
    "exportMesh = True\n",
    "\n",
    "## Full path of pickle file with vertical datum differences for all mesh nodes preprocess step.\n",
    "dzFile = r'../../adds/dzDatumsNOAA/dzDaums_noaaTideGauges_msl_navd88.csv'\n",
    "## Threshold to apply the vertical datum difference.\n",
    "zeroDif = -20\n",
    "## Threshold to define the percentage of the dz given by the spatial interpolation to be applied.\n",
    "maxDif = -5\n",
    "## Only tide stations closed than this threshold are used to interpolate the vertical datum difference.\n",
    "distThreshold = 0.5\n",
    "\n",
    "## Number of points to query for the inverse distance-weighted interpolation.\n",
    "k = 7\n",
    "\n",
    "## Full path of the grass location if a existing location will be used.\n",
    "## If None, then a new location called 'grassLoc' is created.\n",
    "## Path can't be relative.\n",
    "nameGrassLocation = None\n",
    "\n",
    "## Boolean for creating grass location.\n",
    "## In this example it will be created.\n",
    "createGrassLocation = True\n",
    "\n",
    "## Method for assigning the crs to the grass location.\n",
    "## Two options 'from_epsg' or 'from_raster' otherwise an error will be thrown.\n",
    "## In this example, we use the projection from the input DEM.\n",
    "createLocMethod = 'from_raster'\n",
    "\n",
    "## Variable to downscale, can be 'zMax', 'zMean' and 'zMin'.\n",
    "## With 'zMean', the mean value of each contour is used.\n",
    "attrCol = 'zMean'\n",
    "\n",
    "## How many times the representative length the results are grown in the downscaling.\n",
    "repLenGrowing = 1.0 \n",
    "\n",
    "## Remove wet cells with water level below the ground surface.\n",
    "compAdcirc2dem = True\n",
    "\n",
    "## Transform the water level to water depth.\n",
    "floodDepth = False\n",
    "\n",
    "## Export downscaled results as shape files.\n",
    "## Slows down the process a couple of minutes.\n",
    "ras2vec = False\n",
    "\n",
    "## Boolean for exporing raw maxele as a DEM. Useful for debugging.\n",
    "exportOrg = False\n",
    "\n",
    "## Full path of the shapefile with levees.\n",
    "leveesFile = None\n",
    "\n",
    "## Boolean for reprojecting the downscaled dem back to lat/lon.\n",
    "finalOutToLatLon = False"
   ]
  },
  {
   "cell_type": "markdown",
   "metadata": {},
   "source": [
    "Now, let's call the <code>runStatic</code> function with the parameters we defined. This may take a few minutes, especially because now we must pre-process the mesh before doing the downscaling."
   ]
  },
  {
   "cell_type": "code",
   "execution_count": 4,
   "metadata": {},
   "outputs": [
    {
     "name": "stderr",
     "output_type": "stream",
     "text": [
      "\u001b[32m2024-07-25 10:34:04.262\u001b[0m | \u001b[1mINFO    \u001b[0m | \u001b[36mkalpana.export\u001b[0m:\u001b[36mnc2shp\u001b[0m:\u001b[36m817\u001b[0m - \u001b[1mStart exporting adcirc to shape\u001b[0m\n",
      "\u001b[32m2024-07-25 10:34:05.182\u001b[0m | \u001b[1mINFO    \u001b[0m | \u001b[36mkalpana.export\u001b[0m:\u001b[36mfilledContours2gpd\u001b[0m:\u001b[36m311\u001b[0m - \u001b[1mBegin computing contours using Dask\u001b[0m\n",
      "\u001b[32m2024-07-25 10:34:05.260\u001b[0m | \u001b[1mINFO    \u001b[0m | \u001b[36mkalpana.export\u001b[0m:\u001b[36mfilledContours2gpd\u001b[0m:\u001b[36m313\u001b[0m - \u001b[1mFinnished computing contours using Dask\u001b[0m\n",
      "\u001b[32m2024-07-25 10:34:05.269\u001b[0m | \u001b[1mINFO    \u001b[0m | \u001b[36mkalpana.export\u001b[0m:\u001b[36mnc2shp\u001b[0m:\u001b[36m847\u001b[0m - \u001b[1m    Ready with the contours extraction: 0.016 min\u001b[0m\n",
      "\u001b[32m2024-07-25 10:34:05.325\u001b[0m | \u001b[1mINFO    \u001b[0m | \u001b[36mkalpana.export\u001b[0m:\u001b[36mnc2shp\u001b[0m:\u001b[36m855\u001b[0m - \u001b[1m    Cliping contours based on mask: 0.001 min\u001b[0m\n",
      "\u001b[32m2024-07-25 10:34:05.333\u001b[0m | \u001b[1mINFO    \u001b[0m | \u001b[36mkalpana.export\u001b[0m:\u001b[36mnc2shp\u001b[0m:\u001b[36m873\u001b[0m - \u001b[1m    Changing CRS: 0.000 min\u001b[0m\n",
      "\u001b[32m2024-07-25 10:34:05.405\u001b[0m | \u001b[1mINFO    \u001b[0m | \u001b[36mkalpana.export\u001b[0m:\u001b[36mnc2shp\u001b[0m:\u001b[36m884\u001b[0m - \u001b[1m    Saving file: 0.001 min\u001b[0m\n",
      "\u001b[32m2024-07-25 10:34:05.405\u001b[0m | \u001b[1mINFO    \u001b[0m | \u001b[36mkalpana.export\u001b[0m:\u001b[36mnc2shp\u001b[0m:\u001b[36m888\u001b[0m - \u001b[1m    Exporting mesh\u001b[0m\n",
      "\u001b[32m2024-07-25 10:35:12.968\u001b[0m | \u001b[1mINFO    \u001b[0m | \u001b[36mkalpana.export\u001b[0m:\u001b[36mnc2shp\u001b[0m:\u001b[36m896\u001b[0m - \u001b[1m    Mesh exported: 1.126 min\u001b[0m\n",
      "\u001b[32m2024-07-25 10:35:12.969\u001b[0m | \u001b[1mINFO    \u001b[0m | \u001b[36mkalpana.export\u001b[0m:\u001b[36mnc2shp\u001b[0m:\u001b[36m897\u001b[0m - \u001b[1mReady with exporting code after: 1.145 min\u001b[0m\n",
      "\u001b[32m2024-07-25 10:35:12.969\u001b[0m | \u001b[1mINFO    \u001b[0m | \u001b[36mkalpana.downscaling\u001b[0m:\u001b[36mrunStatic\u001b[0m:\u001b[36m810\u001b[0m - \u001b[1mStatic downscaling started\u001b[0m\n",
      "\u001b[32m2024-07-25 10:35:13.075\u001b[0m | \u001b[1mINFO    \u001b[0m | \u001b[36mkalpana.downscaling\u001b[0m:\u001b[36mrunStatic\u001b[0m:\u001b[36m824\u001b[0m - \u001b[1m    Start Setup grass environment\u001b[0m\n",
      "\u001b[32m2024-07-25 10:35:13.076\u001b[0m | \u001b[1mINFO    \u001b[0m | \u001b[36mkalpana.downscaling\u001b[0m:\u001b[36msetGrassEnv\u001b[0m:\u001b[36m346\u001b[0m - \u001b[1m        rasters to list:  0.000 min\u001b[0m\n",
      "\u001b[32m2024-07-25 10:35:13.230\u001b[0m | \u001b[1mINFO    \u001b[0m | \u001b[36mkalpana.downscaling\u001b[0m:\u001b[36msetGrassEnv\u001b[0m:\u001b[36m350\u001b[0m - \u001b[1m        create location:  0.003 min\u001b[0m\n",
      "\u001b[32m2024-07-25 10:35:13.234\u001b[0m | \u001b[1mINFO    \u001b[0m | \u001b[36mkalpana.downscaling\u001b[0m:\u001b[36msetGrassEnv\u001b[0m:\u001b[36m356\u001b[0m - \u001b[1m        init grass:  0.000 min\u001b[0m\n",
      "WARNING: Updating spatial reference with embedded proj4 definition\n",
      "WARNING: Updating spatial reference with embedded proj4 definition\n",
      "\u001b[32m2024-07-25 10:35:16.706\u001b[0m | \u001b[1mINFO    \u001b[0m | \u001b[36mkalpana.downscaling\u001b[0m:\u001b[36msetGrassEnv\u001b[0m:\u001b[36m361\u001b[0m - \u001b[1m        import raster:  0.058 min\u001b[0m\n",
      "\u001b[32m2024-07-25 10:35:16.786\u001b[0m | \u001b[1mINFO    \u001b[0m | \u001b[36mkalpana.downscaling\u001b[0m:\u001b[36msetGrassEnv\u001b[0m:\u001b[36m365\u001b[0m - \u001b[1m        set downscaling dem:  0.001 min\u001b[0m\n",
      "\u001b[32m2024-07-25 10:35:16.787\u001b[0m | \u001b[1mINFO    \u001b[0m | \u001b[36mkalpana.downscaling\u001b[0m:\u001b[36mrunStatic\u001b[0m:\u001b[36m834\u001b[0m - \u001b[1m    Setup grass environment: 0.06 min\u001b[0m\n",
      "\u001b[32m2024-07-25 10:35:16.787\u001b[0m | \u001b[1mINFO    \u001b[0m | \u001b[36mkalpana.downscaling\u001b[0m:\u001b[36mrunStatic\u001b[0m:\u001b[36m837\u001b[0m - \u001b[1m    Start Downscaling preprocess\u001b[0m\n",
      "\u001b[32m2024-07-25 10:35:17.625\u001b[0m | \u001b[1mINFO    \u001b[0m | \u001b[36mkalpana.downscaling\u001b[0m:\u001b[36msetupGrowing\u001b[0m:\u001b[36m395\u001b[0m - \u001b[1m        Import kalpana shapefile: 0.01 min\u001b[0m\n",
      "\u001b[32m2024-07-25 10:35:19.506\u001b[0m | \u001b[1mINFO    \u001b[0m | \u001b[36mkalpana.downscaling\u001b[0m:\u001b[36msetupGrowing\u001b[0m:\u001b[36m401\u001b[0m - \u001b[1m        Kalpana shape to raster: 0.03 min\u001b[0m\n",
      "WARNING: Updating spatial reference with embedded proj4 definition\n",
      "\u001b[32m2024-07-25 10:39:12.202\u001b[0m | \u001b[1mINFO    \u001b[0m | \u001b[36mkalpana.downscaling\u001b[0m:\u001b[36msetupGrowing\u001b[0m:\u001b[36m413\u001b[0m - \u001b[1m        Import mesh shapefile: 3.88 min\u001b[0m\n",
      "\u001b[32m2024-07-25 10:39:47.331\u001b[0m | \u001b[1mINFO    \u001b[0m | \u001b[36mkalpana.downscaling\u001b[0m:\u001b[36msetupGrowing\u001b[0m:\u001b[36m420\u001b[0m - \u001b[1m        Mesh shape to raster: 0.59 min\u001b[0m\n",
      "\u001b[32m2024-07-25 10:39:51.021\u001b[0m | \u001b[1mINFO    \u001b[0m | \u001b[36mkalpana.downscaling\u001b[0m:\u001b[36msetupGrowing\u001b[0m:\u001b[36m425\u001b[0m - \u001b[1m        Mesh exported as raster: 0.06 min\u001b[0m\n",
      "\u001b[32m2024-07-25 10:39:51.021\u001b[0m | \u001b[1mINFO    \u001b[0m | \u001b[36mkalpana.downscaling\u001b[0m:\u001b[36mrunStatic\u001b[0m:\u001b[36m841\u001b[0m - \u001b[1m    Downscaling preprocess: 4.571 min\u001b[0m\n",
      "\u001b[32m2024-07-25 10:39:51.022\u001b[0m | \u001b[1mINFO    \u001b[0m | \u001b[36mkalpana.downscaling\u001b[0m:\u001b[36mrunStatic\u001b[0m:\u001b[36m844\u001b[0m - \u001b[1m    Start growing\u001b[0m\n",
      "\u001b[32m2024-07-25 10:40:10.444\u001b[0m | \u001b[1mINFO    \u001b[0m | \u001b[36mkalpana.downscaling\u001b[0m:\u001b[36mstaticGrow\u001b[0m:\u001b[36m456\u001b[0m - \u001b[1m        Running r.grow algorithm: 0.324 min\u001b[0m\n",
      "\u001b[32m2024-07-25 10:40:22.751\u001b[0m | \u001b[1mINFO    \u001b[0m | \u001b[36mkalpana.downscaling\u001b[0m:\u001b[36mstaticGrow\u001b[0m:\u001b[36m463\u001b[0m - \u001b[1m        Limit grown raster using adcirc mesh: 0.205 min\u001b[0m\n",
      "\u001b[32m2024-07-25 10:40:22.752\u001b[0m | \u001b[1mINFO    \u001b[0m | \u001b[36mkalpana.downscaling\u001b[0m:\u001b[36mrunStatic\u001b[0m:\u001b[36m847\u001b[0m - \u001b[1m    Ready with static grow: 0.529 min\u001b[0m\n",
      "\u001b[32m2024-07-25 10:40:22.752\u001b[0m | \u001b[1mINFO    \u001b[0m | \u001b[36mkalpana.downscaling\u001b[0m:\u001b[36mrunStatic\u001b[0m:\u001b[36m850\u001b[0m - \u001b[1m    Start postprocessing\u001b[0m\n",
      "\u001b[32m2024-07-25 10:40:32.368\u001b[0m | \u001b[1mINFO    \u001b[0m | \u001b[36mkalpana.downscaling\u001b[0m:\u001b[36mpostProcessStatic\u001b[0m:\u001b[36m620\u001b[0m - \u001b[1m        Delete ground level: 0.160\u001b[0m\n",
      "   0   3   6   9  12  15  18  21  24  27  30  33  36  39  42  45  48  51  54  57  60  63  66  69  72  75  78  81  84  87  90  93  96  99 100\n",
      "\u001b[32m2024-07-25 10:41:01.168\u001b[0m | \u001b[1mINFO    \u001b[0m | \u001b[36mkalpana.downscaling\u001b[0m:\u001b[36mpostProcessStatic\u001b[0m:\u001b[36m630\u001b[0m - \u001b[1m        Delete unconnected clumps: 0.480\u001b[0m\n",
      "\u001b[32m2024-07-25 10:41:04.534\u001b[0m | \u001b[1mINFO    \u001b[0m | \u001b[36mkalpana.downscaling\u001b[0m:\u001b[36mpostProcessStatic\u001b[0m:\u001b[36m640\u001b[0m - \u001b[1m        export as tif level: 0.056\u001b[0m\n",
      "\u001b[32m2024-07-25 10:41:04.535\u001b[0m | \u001b[1mINFO    \u001b[0m | \u001b[36mkalpana.downscaling\u001b[0m:\u001b[36mrunStatic\u001b[0m:\u001b[36m853\u001b[0m - \u001b[1m    Ready with postprocess: 0.696 min\u001b[0m\n",
      "\u001b[32m2024-07-25 10:41:04.535\u001b[0m | \u001b[1mINFO    \u001b[0m | \u001b[36mkalpana.downscaling\u001b[0m:\u001b[36mrunStatic\u001b[0m:\u001b[36m854\u001b[0m - \u001b[1mReady with static downscaling: 5.859 min\u001b[0m\n",
      "\u001b[32m2024-07-25 10:41:04.535\u001b[0m | \u001b[1mINFO    \u001b[0m | \u001b[36mkalpana.downscaling\u001b[0m:\u001b[36mrunStatic\u001b[0m:\u001b[36m859\u001b[0m - \u001b[1mKalpana finished sucsesfully after: 7.005 min\u001b[0m\n",
      "\u001b[32m2024-07-25 10:41:04.535\u001b[0m | \u001b[1mINFO    \u001b[0m | \u001b[36mkalpana.downscaling\u001b[0m:\u001b[36mrunStatic\u001b[0m:\u001b[36m860\u001b[0m - \u001b[1mOutput files saved on: /Users/jcdietrich/Library/CloudStorage/GoogleDrive-jcdietri@ncsu.edu/My Drive/Projects/2016-2020-DHS-CRCoE/240722-Kalpana/240723c/Kalpana/examples/3_static_downscaling\u001b[0m\n"
     ]
    }
   ],
   "source": [
    "#################### calling downscaling\n",
    "runStatic(ncFile, levels, epsgOut, pathOut, grassVer, pathRasFiles, rasterFiles, meshFile, epsgIn=epsgIn, \n",
    "            vUnitIn=vUnitIn, vUnitOut=vUnitOut, var=var, conType =conType, subDomain=subDomain, epsgSubDom=epsgSubDom, \n",
    "            exportMesh= exportMesh, dzFile=dzFile, zeroDif=zeroDif, maxDif=maxDif, distThreshold=distThreshold, k=k, \n",
    "            nameGrassLocation=nameGrassLocation, createGrassLocation=createGrassLocation, createLocMethod=createLocMethod, \n",
    "            attrCol=attrCol, repLenGrowing=repLenGrowing, compAdcirc2dem=compAdcirc2dem, floodDepth=floodDepth, \n",
    "            ras2vec=ras2vec, exportOrg=exportOrg, leveesFile = leveesFile, finalOutToLatLon=finalOutToLatLon)"
   ]
  },
  {
   "cell_type": "markdown",
   "metadata": {},
   "source": [
    "The outputs of this function are the same as for the previous Examples 3-1 and 3-2. Please see those notebooks for visualizations of: the new raster DEM with the mesh element sizes, and the downscaled water surface."
   ]
  },
  {
   "cell_type": "markdown",
   "metadata": {},
   "source": [
    "## Housekeeping"
   ]
  },
  {
   "cell_type": "markdown",
   "metadata": {},
   "source": [
    "The following cell is optional. We include it to keep clean the repository -- it will delete the shapefile and geoTIFF that we just created. For most users, this cell is not necessary."
   ]
  },
  {
   "cell_type": "code",
   "execution_count": 6,
   "metadata": {},
   "outputs": [],
   "source": [
    "## clean\n",
    "for f in glob.glob(\"CUDEM_merged_10m_crs3857_mesh*\"):\n",
    "    os.remove(f)\n",
    "\n",
    "for f in glob.glob(\"downscaling_dem*\"):\n",
    "    os.remove(f)\n",
    "\n",
    "for f in glob.glob(\"maxele_Ida*\"):\n",
    "    os.remove(f)\n",
    "\n",
    "shutil.rmtree('grassLoc')"
   ]
  },
  {
   "cell_type": "markdown",
   "metadata": {},
   "source": [
    "Good luck with Kalpana! See you in future examples!"
   ]
  }
 ],
 "metadata": {
  "kernelspec": {
   "display_name": "kalpana",
   "language": "python",
   "name": "kalpana"
  },
  "language_info": {
   "codemirror_mode": {
    "name": "ipython",
    "version": 3
   },
   "file_extension": ".py",
   "mimetype": "text/x-python",
   "name": "python",
   "nbconvert_exporter": "python",
   "pygments_lexer": "ipython3",
   "version": "3.10.14"
  }
 },
 "nbformat": 4,
 "nbformat_minor": 4
}
