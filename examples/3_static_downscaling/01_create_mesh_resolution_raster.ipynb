{
 "cells": [
  {
   "cell_type": "code",
   "execution_count": 1,
   "metadata": {},
   "outputs": [],
   "source": [
    "import os\n",
    "import sys\n",
    "import glob\n",
    "import shutil\n",
    "from pathlib import Path\n",
    "from kalpana.downscaling import meshRepLen2raster"
   ]
  },
  {
   "cell_type": "markdown",
   "metadata": {},
   "source": [
    "This script creates a grass location importing the DEM for downscaling and also creates\n",
    "a new DEM with same resolution and extend with the size of the mesh triangles. This step\n",
    "is key for the downscaling and can be run in advance, because only depends on the mesh."
   ]
  },
  {
   "cell_type": "code",
   "execution_count": 11,
   "metadata": {},
   "outputs": [],
   "source": [
    "cwd = Path(os.getcwd())\n",
    "fort14 = str(cwd.parent.parent/'adds/inputs_examples/fort.14') ## path of the fort.14 file\n",
    "epsgIn = 4326 ## CRS for lat/lon\n",
    "epsgOut = 6346 ## CRS of downscaling DEM\n",
    "pathOut = os.path.join(cwd, 'NC_CoNED_subset_100m_mesh.shp') ## full path of the output shapefile \n",
    "grassVer = 8.3 ## version of grass 8.2 and 8.3 works\n",
    "pathRasFiles = str(cwd.parent.parent/'adds/inputs_examples')\n",
    "rasterFiles = 'NC_CoNED_subset_100m.tif'\n",
    "## in this case we will use the same downscaling raster bounding box as the subdomain. \n",
    "subDomain = os.path.join(pathRasFiles, rasterFiles)\n",
    "nameGrassLocation=None\n",
    "createGrassLocation=True\n",
    "createLocMethod='from_raster'"
   ]
  },
  {
   "cell_type": "code",
   "execution_count": 12,
   "metadata": {
    "scrolled": true
   },
   "outputs": [
    {
     "name": "stderr",
     "output_type": "stream",
     "text": [
      "\u001b[32m2024-07-07 02:46:18.181\u001b[0m | \u001b[1mINFO    \u001b[0m | \u001b[36mkalpana.downscaling\u001b[0m:\u001b[36mmeshRepLen2raster\u001b[0m:\u001b[36m891\u001b[0m - \u001b[1mMesh created: 0.006 min\u001b[0m\n",
      "\u001b[32m2024-07-07 02:46:18.339\u001b[0m | \u001b[1mINFO    \u001b[0m | \u001b[36mkalpana.downscaling\u001b[0m:\u001b[36mmeshRepLen2raster\u001b[0m:\u001b[36m898\u001b[0m - \u001b[1mClip mesh using subfomain: 0.003 min\u001b[0m\n",
      "\u001b[32m2024-07-07 02:46:18.862\u001b[0m | \u001b[1mINFO    \u001b[0m | \u001b[36mkalpana.downscaling\u001b[0m:\u001b[36mmeshRepLen2raster\u001b[0m:\u001b[36m906\u001b[0m - \u001b[1mExport mesh gdf as shapefile: 0.009 min\u001b[0m\n",
      "\u001b[32m2024-07-07 02:46:18.976\u001b[0m | \u001b[1mINFO    \u001b[0m | \u001b[36mkalpana.downscaling\u001b[0m:\u001b[36mmeshRepLen2raster\u001b[0m:\u001b[36m920\u001b[0m - \u001b[1m    Start Setup grass environment\u001b[0m\n",
      "\u001b[32m2024-07-07 02:46:18.976\u001b[0m | \u001b[1mINFO    \u001b[0m | \u001b[36mkalpana.downscaling\u001b[0m:\u001b[36msetGrassEnv\u001b[0m:\u001b[36m337\u001b[0m - \u001b[1m        rasters to list:  0.000 min\u001b[0m\n",
      "\u001b[32m2024-07-07 02:46:19.327\u001b[0m | \u001b[1mINFO    \u001b[0m | \u001b[36mkalpana.downscaling\u001b[0m:\u001b[36msetGrassEnv\u001b[0m:\u001b[36m341\u001b[0m - \u001b[1m        create location:  0.006 min\u001b[0m\n",
      "\u001b[32m2024-07-07 02:46:19.332\u001b[0m | \u001b[1mINFO    \u001b[0m | \u001b[36mkalpana.downscaling\u001b[0m:\u001b[36msetGrassEnv\u001b[0m:\u001b[36m347\u001b[0m - \u001b[1m        init grass:  0.000 min\u001b[0m\n",
      "\u001b[32m2024-07-07 02:46:19.836\u001b[0m | \u001b[1mINFO    \u001b[0m | \u001b[36mkalpana.downscaling\u001b[0m:\u001b[36msetGrassEnv\u001b[0m:\u001b[36m352\u001b[0m - \u001b[1m        import raster:  0.008 min\u001b[0m\n",
      "\u001b[32m2024-07-07 02:46:19.934\u001b[0m | \u001b[1mINFO    \u001b[0m | \u001b[36mkalpana.downscaling\u001b[0m:\u001b[36msetGrassEnv\u001b[0m:\u001b[36m356\u001b[0m - \u001b[1m        set downscaling dem:  0.002 min\u001b[0m\n",
      "\u001b[32m2024-07-07 02:46:21.089\u001b[0m | \u001b[1mINFO    \u001b[0m | \u001b[36mkalpana.downscaling\u001b[0m:\u001b[36mmeshRepLen2raster\u001b[0m:\u001b[36m940\u001b[0m - \u001b[1m        Import mesh shapefile: 0.01 min\u001b[0m\n",
      "\u001b[32m2024-07-07 02:46:21.370\u001b[0m | \u001b[1mINFO    \u001b[0m | \u001b[36mkalpana.downscaling\u001b[0m:\u001b[36mmeshRepLen2raster\u001b[0m:\u001b[36m947\u001b[0m - \u001b[1m        Mesh shape to raster: 0.00 min\u001b[0m\n",
      "\u001b[32m2024-07-07 02:46:21.683\u001b[0m | \u001b[1mINFO    \u001b[0m | \u001b[36mkalpana.downscaling\u001b[0m:\u001b[36mmeshRepLen2raster\u001b[0m:\u001b[36m953\u001b[0m - \u001b[1m        Mesh exported to raster: 0.01 min\u001b[0m\n"
     ]
    }
   ],
   "source": [
    "meshRepLen2raster(fort14, epsgIn, epsgOut, pathOut, grassVer, pathRasFiles, rasterFiles, \n",
    "                  subDomain=subDomain, nameGrassLocation=nameGrassLocation, \n",
    "                  createGrassLocation=createGrassLocation, \n",
    "                  createLocMethod=createLocMethod)"
   ]
  },
  {
   "cell_type": "code",
   "execution_count": 13,
   "metadata": {},
   "outputs": [],
   "source": [
    "## clean\n",
    "for f in glob.glob(\"NC_CoNED_subset_100m*\"):\n",
    "    os.remove(f)\n",
    "\n",
    "for f in glob.glob(\"downscaling_dem*\"):\n",
    "    os.remove(f)\n",
    "\n",
    "shutil.rmtree('grassLoc')"
   ]
  },
  {
   "cell_type": "code",
   "execution_count": null,
   "metadata": {},
   "outputs": [],
   "source": []
  }
 ],
 "metadata": {
  "kernelspec": {
   "display_name": "Python 3 (ipykernel)",
   "language": "python",
   "name": "python3"
  },
  "language_info": {
   "codemirror_mode": {
    "name": "ipython",
    "version": 3
   },
   "file_extension": ".py",
   "mimetype": "text/x-python",
   "name": "python",
   "nbconvert_exporter": "python",
   "pygments_lexer": "ipython3",
   "version": "3.9.18"
  }
 },
 "nbformat": 4,
 "nbformat_minor": 4
}
