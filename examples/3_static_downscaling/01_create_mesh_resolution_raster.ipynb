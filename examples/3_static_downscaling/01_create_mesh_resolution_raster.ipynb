{
 "cells": [
  {
   "cell_type": "code",
   "execution_count": 7,
   "metadata": {},
   "outputs": [],
   "source": [
    "import os\n",
    "import glob\n",
    "import shutil\n",
    "from kalpana.downscaling import meshRepLen2raster"
   ]
  },
  {
   "cell_type": "markdown",
   "metadata": {},
   "source": [
    "This script creates a grass location importing the DEM for downscaling and also creates\n",
    "a new DEM with same resolution and extend with the size of the mesh triangles. This step\n",
    "is key for the downscaling and can be run in advance, because only depends on the mesh."
   ]
  },
  {
   "cell_type": "code",
   "execution_count": 2,
   "metadata": {},
   "outputs": [],
   "source": [
    "fort14 = r'../../adds/inputs_examples/fort.14' ## path of the fort.14 file\n",
    "epsgIn = 4326 ## CRS for lat/lon\n",
    "epsgOut = 6346 ## CRS of downscaling DEM\n",
    "pathOut = r'NC_CoNED_subset_100m_mesh.shp' ## full path of the output shapefile \n",
    "grassVer = 8.2 ## version of grass 8.2 and 8.3 works\n",
    "pathRasFiles = r'../../adds/inputs_examples'\n",
    "rasterFiles = 'NC_CoNED_subset_100m.tif'\n",
    "## in this case we will use the same downscaling raster bounding box as the subdomain. \n",
    "subDomain = os.path.join(pathRasFiles, rasterFiles)\n",
    "nameGrassLocation=None\n",
    "createGrassLocation=True\n",
    "createLocMethod='from_raster'"
   ]
  },
  {
   "cell_type": "code",
   "execution_count": 12,
   "metadata": {},
   "outputs": [
    {
     "name": "stderr",
     "output_type": "stream",
     "text": [
      "\u001b[32m2024-06-20 20:46:46.149\u001b[0m | \u001b[1mINFO    \u001b[0m | \u001b[36mkalpana.downscaling\u001b[0m:\u001b[36mmeshRepLen2raster\u001b[0m:\u001b[36m891\u001b[0m - \u001b[1mMesh created: 0.004 min\u001b[0m\n",
      "\u001b[32m2024-06-20 20:46:46.200\u001b[0m | \u001b[1mINFO    \u001b[0m | \u001b[36mkalpana.downscaling\u001b[0m:\u001b[36mmeshRepLen2raster\u001b[0m:\u001b[36m898\u001b[0m - \u001b[1mClip mesh using subfomain: 0.001 min\u001b[0m\n",
      "\u001b[32m2024-06-20 20:46:46.513\u001b[0m | \u001b[1mINFO    \u001b[0m | \u001b[36mkalpana.downscaling\u001b[0m:\u001b[36mmeshRepLen2raster\u001b[0m:\u001b[36m906\u001b[0m - \u001b[1mExport mesh gdf as shapefile: 0.005 min\u001b[0m\n",
      "\u001b[32m2024-06-20 20:46:46.546\u001b[0m | \u001b[1mINFO    \u001b[0m | \u001b[36mkalpana.downscaling\u001b[0m:\u001b[36mmeshRepLen2raster\u001b[0m:\u001b[36m920\u001b[0m - \u001b[1m    Start Setup grass environment\u001b[0m\n",
      "\u001b[32m2024-06-20 20:46:46.546\u001b[0m | \u001b[1mINFO    \u001b[0m | \u001b[36mkalpana.downscaling\u001b[0m:\u001b[36msetGrassEnv\u001b[0m:\u001b[36m337\u001b[0m - \u001b[1m        rasters to list:  0.000 min\u001b[0m\n",
      "\u001b[32m2024-06-20 20:46:46.653\u001b[0m | \u001b[1mINFO    \u001b[0m | \u001b[36mkalpana.downscaling\u001b[0m:\u001b[36msetGrassEnv\u001b[0m:\u001b[36m341\u001b[0m - \u001b[1m        create location:  0.002 min\u001b[0m\n",
      "\u001b[32m2024-06-20 20:46:46.654\u001b[0m | \u001b[1mINFO    \u001b[0m | \u001b[36mkalpana.downscaling\u001b[0m:\u001b[36msetGrassEnv\u001b[0m:\u001b[36m347\u001b[0m - \u001b[1m        init grass:  0.000 min\u001b[0m\n",
      "\u001b[32m2024-06-20 20:46:46.914\u001b[0m | \u001b[1mINFO    \u001b[0m | \u001b[36mkalpana.downscaling\u001b[0m:\u001b[36msetGrassEnv\u001b[0m:\u001b[36m352\u001b[0m - \u001b[1m        import raster:  0.004 min\u001b[0m\n",
      "\u001b[32m2024-06-20 20:46:46.982\u001b[0m | \u001b[1mINFO    \u001b[0m | \u001b[36mkalpana.downscaling\u001b[0m:\u001b[36msetGrassEnv\u001b[0m:\u001b[36m356\u001b[0m - \u001b[1m        set downscaling dem:  0.001 min\u001b[0m\n",
      "Checking GDAL data type and nodata value...\n",
      "   2   5   8  11  14  17  20  23  26  29  32  35  38  41  44  47  50  53  56  59  62  65  68  71  74  77  80  83  86  89  92  95  98 100\n",
      "Using GDAL data type <Float32>\n",
      "Exporting raster data to GTiff format...\n",
      "   2   5   8  11  14  17  20  23  26  29  32  35  38  41  44  47  50  53  56  59  62  65  68  71  74  77  80  83  86  89  92  95  98 100\n",
      "r.out.gdal complete. File <downscaling_dem.tif> created.\n",
      "\u001b[32m2024-06-20 20:46:47.445\u001b[0m | \u001b[1mINFO    \u001b[0m | \u001b[36mkalpana.downscaling\u001b[0m:\u001b[36mmeshRepLen2raster\u001b[0m:\u001b[36m940\u001b[0m - \u001b[1m        Import mesh shapefile: 0.01 min\u001b[0m\n",
      "\u001b[32m2024-06-20 20:46:47.556\u001b[0m | \u001b[1mINFO    \u001b[0m | \u001b[36mkalpana.downscaling\u001b[0m:\u001b[36mmeshRepLen2raster\u001b[0m:\u001b[36m947\u001b[0m - \u001b[1m        Mesh shape to raster: 0.00 min\u001b[0m\n",
      "Checking GDAL data type and nodata value...\n",
      "   2   5   8  11  14  17  20  23  26  29  32  35  38  41  44  47  50  53  56  59  62  65  68  71  74  77  80  83  86  89  92  95  98 100\n",
      "Using GDAL data type <Float64>\n",
      "Exporting raster data to GTiff format...\n",
      "   2   5   8  11  14  17  20  23  26  29  32  35  38  41  44  47  50  53  56  59  62  65  68  71  74  77  80  83  86  89  92  95  98 100\n",
      "r.out.gdal complete. File <NC_CoNED_subset_100m_mesh.tif> created.\n",
      "\u001b[32m2024-06-20 20:46:47.700\u001b[0m | \u001b[1mINFO    \u001b[0m | \u001b[36mkalpana.downscaling\u001b[0m:\u001b[36mmeshRepLen2raster\u001b[0m:\u001b[36m953\u001b[0m - \u001b[1m        Mesh exported to raster: 0.00 min\u001b[0m\n"
     ]
    }
   ],
   "source": [
    "meshRepLen2raster(fort14, epsgIn, epsgOut, pathOut, grassVer, pathRasFiles, rasterFiles, \n",
    "                  subDomain=subDomain, nameGrassLocation=nameGrassLocation, \n",
    "                  createGrassLocation=createGrassLocation, \n",
    "                  createLocMethod=createLocMethod)"
   ]
  },
  {
   "cell_type": "code",
   "execution_count": 13,
   "metadata": {},
   "outputs": [],
   "source": [
    "## clean\n",
    "for f in glob.glob(\"NC_CoNED_subset_100m*\"):\n",
    "    os.remove(f)\n",
    "\n",
    "for f in glob.glob(\"downscaling_dem*\"):\n",
    "    os.remove(f)\n",
    "\n",
    "shutil.rmtree('grassLoc')"
   ]
  }
 ],
 "metadata": {
  "kernelspec": {
   "display_name": "kalpana",
   "language": "python",
   "name": "python3"
  },
  "language_info": {
   "codemirror_mode": {
    "name": "ipython",
    "version": 3
   },
   "file_extension": ".py",
   "mimetype": "text/x-python",
   "name": "python",
   "nbconvert_exporter": "python",
   "pygments_lexer": "ipython3",
   "version": "3.10.14"
  }
 },
 "nbformat": 4,
 "nbformat_minor": 2
}
