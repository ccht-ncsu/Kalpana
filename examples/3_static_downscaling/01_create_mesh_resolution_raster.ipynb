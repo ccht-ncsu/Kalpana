{
 "cells": [
  {
   "cell_type": "code",
   "execution_count": 1,
   "metadata": {},
   "outputs": [],
   "source": [
    "import os\n",
    "import sys\n",
    "import glob\n",
    "import shutil\n",
    "from pathlib import Path\n",
    "from kalpana.downscaling import meshRepLen2raster"
   ]
  },
  {
   "cell_type": "markdown",
   "metadata": {},
   "source": [
    "This script creates a grass location using an input DEM and downscales it to create a coarser \n",
    "one. It also converts the DEM's current information (such as elevations) to a mesh format, meaning \n",
    "all cells within a triangle of the mesh will share the same value. This step is key for the \n",
    "downscaling and can be run in advance, because only depends on the mesh. The desired outputs are \n",
    "six mesh files and a downscaled DEM.\n"
   ]
  },
  {
   "cell_type": "code",
   "execution_count": 2,
   "metadata": {},
   "outputs": [],
   "source": [
    "cwd = Path(os.getcwd())\n",
    "fort14 = str(cwd.parent.parent/'adds'/'inputs_examples'/'fort.14') ## path of the fort.14 file\n",
    "epsgIn = 4326 ## CRS for lat/lon\n",
    "epsgOut = 6346 ## CRS of downscaling DEM\n",
    "pathOut = os.path.join(cwd, 'NC_CoNED_subset_100m_mesh.shp') ## full path of the output shapefile \n",
    "grassVer = 8.3 ## version of grass 8.2 and 8.3 works\n",
    "pathRasFiles = str(cwd.parent.parent/'adds'/'inputs_examples')\n",
    "rasterFiles = 'NC_CoNED_subset_100m.tif'\n",
    "## in this case we will use the same downscaling raster bounding box as the subdomain. \n",
    "subDomain = os.path.join(pathRasFiles, rasterFiles)\n",
    "nameGrassLocation=None\n",
    "createGrassLocation=True\n",
    "createLocMethod='from_raster'"
   ]
  },
  {
   "cell_type": "code",
   "execution_count": 3,
   "metadata": {
    "scrolled": true
   },
   "outputs": [
    {
     "name": "stderr",
     "output_type": "stream",
     "text": [
      "\u001b[32m2024-07-07 14:53:13.367\u001b[0m | \u001b[1mINFO    \u001b[0m | \u001b[36mkalpana.downscaling\u001b[0m:\u001b[36mmeshRepLen2raster\u001b[0m:\u001b[36m891\u001b[0m - \u001b[1mMesh created: 0.002 min\u001b[0m\n",
      "\u001b[32m2024-07-07 14:53:13.410\u001b[0m | \u001b[1mINFO    \u001b[0m | \u001b[36mkalpana.downscaling\u001b[0m:\u001b[36mmeshRepLen2raster\u001b[0m:\u001b[36m898\u001b[0m - \u001b[1mClip mesh using subfomain: 0.001 min\u001b[0m\n",
      "\u001b[32m2024-07-07 14:53:13.575\u001b[0m | \u001b[1mINFO    \u001b[0m | \u001b[36mkalpana.downscaling\u001b[0m:\u001b[36mmeshRepLen2raster\u001b[0m:\u001b[36m906\u001b[0m - \u001b[1mExport mesh gdf as shapefile: 0.003 min\u001b[0m\n",
      "\u001b[32m2024-07-07 14:53:13.609\u001b[0m | \u001b[1mINFO    \u001b[0m | \u001b[36mkalpana.downscaling\u001b[0m:\u001b[36mmeshRepLen2raster\u001b[0m:\u001b[36m920\u001b[0m - \u001b[1m    Start Setup grass environment\u001b[0m\n",
      "\u001b[32m2024-07-07 14:53:13.610\u001b[0m | \u001b[1mINFO    \u001b[0m | \u001b[36mkalpana.downscaling\u001b[0m:\u001b[36msetGrassEnv\u001b[0m:\u001b[36m337\u001b[0m - \u001b[1m        rasters to list:  0.000 min\u001b[0m\n",
      "\u001b[32m2024-07-07 14:53:13.737\u001b[0m | \u001b[1mINFO    \u001b[0m | \u001b[36mkalpana.downscaling\u001b[0m:\u001b[36msetGrassEnv\u001b[0m:\u001b[36m341\u001b[0m - \u001b[1m        create location:  0.002 min\u001b[0m\n",
      "\u001b[32m2024-07-07 14:53:13.739\u001b[0m | \u001b[1mINFO    \u001b[0m | \u001b[36mkalpana.downscaling\u001b[0m:\u001b[36msetGrassEnv\u001b[0m:\u001b[36m347\u001b[0m - \u001b[1m        init grass:  0.000 min\u001b[0m\n",
      "\u001b[32m2024-07-07 14:53:14.047\u001b[0m | \u001b[1mINFO    \u001b[0m | \u001b[36mkalpana.downscaling\u001b[0m:\u001b[36msetGrassEnv\u001b[0m:\u001b[36m352\u001b[0m - \u001b[1m        import raster:  0.005 min\u001b[0m\n",
      "\u001b[32m2024-07-07 14:53:14.112\u001b[0m | \u001b[1mINFO    \u001b[0m | \u001b[36mkalpana.downscaling\u001b[0m:\u001b[36msetGrassEnv\u001b[0m:\u001b[36m356\u001b[0m - \u001b[1m        set downscaling dem:  0.001 min\u001b[0m\n",
      "Checking GDAL data type and nodata value...\n",
      "   2   5   8  11  14  17  20  23  26  29  32  35  38  41  44  47  50  53  56  59  62  65  68  71  74  77  80  83  86  89  92  95  98 100\n",
      "Using GDAL data type <Float32>\n",
      "Exporting raster data to GTiff format...\n",
      "   2   5   8  11  14  17  20  23  26  29  32  35  38  41  44  47  50  53  56  59  62  65  68  71  74  77  80  83  86  89  92  95  98 100\n",
      "r.out.gdal complete. File\n",
      "</home/tomas/github/Kalpana/examples/3_static_downscaling/downscaling_dem.tif>\n",
      "created.\n",
      "\u001b[32m2024-07-07 14:53:14.662\u001b[0m | \u001b[1mINFO    \u001b[0m | \u001b[36mkalpana.downscaling\u001b[0m:\u001b[36mmeshRepLen2raster\u001b[0m:\u001b[36m940\u001b[0m - \u001b[1m        Import mesh shapefile: 0.01 min\u001b[0m\n",
      "\u001b[32m2024-07-07 14:53:14.768\u001b[0m | \u001b[1mINFO    \u001b[0m | \u001b[36mkalpana.downscaling\u001b[0m:\u001b[36mmeshRepLen2raster\u001b[0m:\u001b[36m947\u001b[0m - \u001b[1m        Mesh shape to raster: 0.00 min\u001b[0m\n",
      "Checking GDAL data type and nodata value...\n",
      "   2   5   8  11  14  17  20  23  26  29  32  35  38  41  44  47  50  53  56  59  62  65  68  71  74  77  80  83  86  89  92  95  98 100\n",
      "Using GDAL data type <Float64>\n",
      "Exporting raster data to GTiff format...\n",
      "   2   5   8  11  14  17  20  23  26  29  32  35  38  41  44  47  50  53  56  59  62  65  68  71  74  77  80  83  86  89  92  95  98 100\n",
      "r.out.gdal complete. File\n",
      "</home/tomas/github/Kalpana/examples/3_static_downscaling/NC_CoNED_subset_100m_mesh.tif>\n",
      "created.\n",
      "\u001b[32m2024-07-07 14:53:14.937\u001b[0m | \u001b[1mINFO    \u001b[0m | \u001b[36mkalpana.downscaling\u001b[0m:\u001b[36mmeshRepLen2raster\u001b[0m:\u001b[36m953\u001b[0m - \u001b[1m        Mesh exported to raster: 0.00 min\u001b[0m\n"
     ]
    }
   ],
   "source": [
    "meshRepLen2raster(fort14, epsgIn, epsgOut, pathOut, grassVer, pathRasFiles, rasterFiles, \n",
    "                  subDomain=subDomain, nameGrassLocation=nameGrassLocation, \n",
    "                  createGrassLocation=createGrassLocation, \n",
    "                  createLocMethod=createLocMethod)"
   ]
  },
  {
   "cell_type": "markdown",
   "metadata": {},
   "source": [
    "The following block is here to keep the GitHub repository clean. If this example is being used simply\n",
    "as a learning excersize, it's important to keep the environment organized by removing the new outputs. \n",
    "Otherwise, the repository would become overcroweded with unessessary files. Do not run this block if \n",
    "you need your new files."
   ]
  },
  {
   "cell_type": "code",
   "execution_count": 4,
   "metadata": {},
   "outputs": [],
   "source": [
    "## clean\n",
    "for f in glob.glob(\"NC_CoNED_subset_100m*\"):\n",
    "    os.remove(f)\n",
    "\n",
    "for f in glob.glob(\"downscaling_dem*\"):\n",
    "    os.remove(f)\n",
    "\n",
    "shutil.rmtree('grassLoc')"
   ]
  }
 ],
 "metadata": {
  "kernelspec": {
   "display_name": "Python 3 (ipykernel)",
   "language": "python",
   "name": "python3"
  },
  "language_info": {
   "codemirror_mode": {
    "name": "ipython",
    "version": 3
   },
   "file_extension": ".py",
   "mimetype": "text/x-python",
   "name": "python",
   "nbconvert_exporter": "python",
   "pygments_lexer": "ipython3",
   "version": "3.10.14"
  }
 },
 "nbformat": 4,
 "nbformat_minor": 4
}
